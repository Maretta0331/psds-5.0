{
  "nbformat": 4,
  "nbformat_minor": 0,
  "metadata": {
    "colab": {
      "provenance": []
    },
    "kernelspec": {
      "name": "python3",
      "display_name": "Python 3"
    },
    "language_info": {
      "name": "python"
    }
  },
  "cells": [
    {
      "cell_type": "markdown",
      "source": [
        "MARETTA MIA AUDINA\n",
        "\n",
        "2200015010"
      ],
      "metadata": {
        "id": "LhfGLtmaNKoT"
      }
    },
    {
      "cell_type": "markdown",
      "source": [
        "**Looping/Perulangan**\n",
        "\n",
        "Python menyediakan dua statement untuk melakukan proses perulangan yaitu for dan while. Diantara statemen ini, secara umum for lebih banyak digunakan daripada while."
      ],
      "metadata": {
        "id": "ygtUfz-hguL0"
      }
    },
    {
      "cell_type": "markdown",
      "source": [
        "**For Loop**\n",
        "\n",
        "\n",
        "Perulangan for digunakan untuk melakukan iterasi di dalam sequence seperti list, tuple,\n",
        "string, dan array atau objek yang dapat diiterasi lainnya.\n"
      ],
      "metadata": {
        "id": "-CK0C_u5H_Re"
      }
    },
    {
      "cell_type": "markdown",
      "source": [
        "**For Loop Syntax**"
      ],
      "metadata": {
        "id": "A1MQg0KyICaO"
      }
    },
    {
      "cell_type": "code",
      "source": [
        "for val in sequence:\n",
        " loop body"
      ],
      "metadata": {
        "id": "g1lhnvZyIHgx"
      },
      "execution_count": null,
      "outputs": []
    },
    {
      "cell_type": "markdown",
      "source": [
        "**Example: Python for Loop**"
      ],
      "metadata": {
        "id": "p2wpQCXdIPhb"
      }
    },
    {
      "cell_type": "code",
      "source": [
        "#program untuk menghitung jumlah semua angka dalam sebuah list\n",
        "L1 =[2, 4, 5, 7, 9]\n",
        "jumlah = 0\n",
        "#iterasi di dalam list\n",
        "for i in L1:\n",
        " jumlah = jumlah + i\n",
        "print(jumlah)"
      ],
      "metadata": {
        "colab": {
          "base_uri": "https://localhost:8080/"
        },
        "id": "n7xmGYifIR0X",
        "outputId": "28d4a80e-086a-4ac4-cae9-da6c319b770c"
      },
      "execution_count": 2,
      "outputs": [
        {
          "output_type": "stream",
          "name": "stdout",
          "text": [
            "27\n"
          ]
        }
      ]
    },
    {
      "cell_type": "markdown",
      "source": [
        "**The range() function**"
      ],
      "metadata": {
        "id": "xwjzjB6aIV6v"
      }
    },
    {
      "cell_type": "code",
      "source": [
        "#program untuk melakukan iterasi di dalam list melalui indeks\n",
        "minuman = [\"teh\", \"boba\", \"kopi\", \"susu\"]\n",
        "p = len(minuman)\n",
        "\n",
        "#iterasi di dalam list melalui indeks\n",
        "for i in range(p):\n",
        " print(minuman[i])"
      ],
      "metadata": {
        "colab": {
          "base_uri": "https://localhost:8080/"
        },
        "id": "XRkrnpP_IctZ",
        "outputId": "184bb6b9-fe07-461a-e98c-45ec68eab599"
      },
      "execution_count": 3,
      "outputs": [
        {
          "output_type": "stream",
          "name": "stdout",
          "text": [
            "teh\n",
            "boba\n",
            "kopi\n",
            "susu\n"
          ]
        }
      ]
    },
    {
      "cell_type": "markdown",
      "source": [
        "**Latihan 1**\n",
        "\n",
        "Diberikan list_tagihan. Kamu diminta menghitung jumlah seluruh tagihan! gunakan looping\n",
        "for untuk menyelesaikan tugas ini! simpan hasilnya pada variabel total_tagihan !\n",
        "\n",
        "list_tagihan = [50000, 75000, -150000, 125000, 300000, -50000, 200000]"
      ],
      "metadata": {
        "id": "17Y8ubSSIhGM"
      }
    },
    {
      "cell_type": "code",
      "source": [
        "#tuliskan kode kalian\n",
        "list_tagihan = [50000, 75000, -150000, 125000, 300000, -50000, 200000]\n",
        "jumlah = 0\n",
        "#iterasi di dalam list\n",
        "for i in list_tagihan:\n",
        " jumlah = jumlah + i\n",
        "print(\"total_tagihan : \", jumlah)"
      ],
      "metadata": {
        "colab": {
          "base_uri": "https://localhost:8080/"
        },
        "id": "XQf19yPQIoxy",
        "outputId": "1bc78755-6cef-49d1-9912-ef7788c4808f"
      },
      "execution_count": 4,
      "outputs": [
        {
          "output_type": "stream",
          "name": "stdout",
          "text": [
            "total_tagihan :  550000\n"
          ]
        }
      ]
    },
    {
      "cell_type": "markdown",
      "source": [
        "**While Loop**\n",
        "\n",
        " While loop pada Python digunakan untuk melakukan iterasi pada blok kode\n",
        "selama nilai dari test expression adalah true."
      ],
      "metadata": {
        "id": "mk0d4mxIIzYc"
      }
    },
    {
      "cell_type": "markdown",
      "source": [
        "**syntax of while Loop in Python**"
      ],
      "metadata": {
        "id": "w9BzKyG7I94C"
      }
    },
    {
      "cell_type": "code",
      "execution_count": null,
      "metadata": {
        "id": "0qiPXbK2euv5"
      },
      "outputs": [],
      "source": [
        "while test_Expression:\n",
        " Body of while\n"
      ]
    },
    {
      "cell_type": "markdown",
      "source": [
        "**example:python while loop**"
      ],
      "metadata": {
        "id": "3IjiAiQOJAi6"
      }
    },
    {
      "cell_type": "code",
      "source": [
        "# program untuk menjumlahkan\n",
        "# program asli hingga suku ke-n\n",
        "# jum - 1+2+3+...+n\n",
        "n = 10\n",
        "jumlah = 0\n",
        "i = 1\n",
        "while i<= n:\n",
        " jumlah = jumlah + i\n",
        " i = i +1\n",
        "print(jumlah)"
      ],
      "metadata": {
        "colab": {
          "base_uri": "https://localhost:8080/"
        },
        "id": "612Rq0iJJKUW",
        "outputId": "3633ffc3-340a-437e-d10b-d707f5bfd4cc"
      },
      "execution_count": 5,
      "outputs": [
        {
          "output_type": "stream",
          "name": "stdout",
          "text": [
            "55\n"
          ]
        }
      ]
    },
    {
      "cell_type": "markdown",
      "source": [
        "**while loop with else** sama dengan for loop kita juga dapat mengombinasikan while loop\n",
        "dengan blok else. bagian else akan dieksekusi jika nilai pada . perhatikan contoh berikut:"
      ],
      "metadata": {
        "id": "-lmcSNLMJO6o"
      }
    },
    {
      "cell_type": "code",
      "source": [
        "jum = 0\n",
        "i = 1\n",
        "while i <= n:\n",
        " jum = jum + i\n",
        " i = i + 1\n",
        "else:\n",
        " print(jum) #dieksekusi siluar looping\n"
      ],
      "metadata": {
        "colab": {
          "base_uri": "https://localhost:8080/"
        },
        "id": "Q494jb3JJT0H",
        "outputId": "f78b819e-5972-4b75-e8ae-a9e43144a9ad"
      },
      "execution_count": 7,
      "outputs": [
        {
          "output_type": "stream",
          "name": "stdout",
          "text": [
            "55\n"
          ]
        }
      ]
    },
    {
      "cell_type": "markdown",
      "source": [
        "**Latihan 2**\n",
        "\n",
        "\n",
        "diberikan list tagihan hitunglah total tagihan menggunakan while loop.\n",
        "\n",
        "\n"
      ],
      "metadata": {
        "id": "94PX4ASAJeWh"
      }
    },
    {
      "cell_type": "code",
      "source": [
        "list_tagihan = [50000, 75000, -150000, 125000, 300000, -50000, 200000]\n",
        "list_tagihan = [50000, 75000, -150000, 125000, 300000, -50000, 200000]\n",
        "total_tagihan = 0\n",
        "i = 0\n",
        "while i < len(list_tagihan):\n",
        " total_tagihan = total_tagihan + list_tagihan[i]\n",
        " i = i + 1\n",
        "print(\"Total tagihan:\", total_tagihan)"
      ],
      "metadata": {
        "colab": {
          "base_uri": "https://localhost:8080/"
        },
        "id": "RhwvMndoJWZC",
        "outputId": "bda7bbdf-d707-4864-8913-8f3d2691f50f"
      },
      "execution_count": 8,
      "outputs": [
        {
          "output_type": "stream",
          "name": "stdout",
          "text": [
            "Total tagihan: 550000\n"
          ]
        }
      ]
    },
    {
      "cell_type": "markdown",
      "source": [
        "**Percabangan / Struktur Pemilihan**\n",
        "\n",
        "\n",
        "Pada bagian ini, kamu akan membuat keputusan pada bahasa pemrogaman Python\n",
        "menggunakan struktur percabangan atau juga sering disebut IF ELSE Statement.\n",
        "Pengambilan keputusan dibutuhkan ketika kamu akan mengeksekusi suatu kode jika\n",
        "sebuah kondisi tertentu dipenuhi\n",
        "\n",
        "\n",
        "Statement if .. elif ... else digunakan pada bahasa Python untuk pengambilan keputusan."
      ],
      "metadata": {
        "id": "e5dZkKA-J3jP"
      }
    },
    {
      "cell_type": "markdown",
      "source": [
        "**IF Statement**"
      ],
      "metadata": {
        "id": "oHZ6mKuJJ-Kc"
      }
    },
    {
      "cell_type": "markdown",
      "source": [
        "**python IF Statement Syntax**"
      ],
      "metadata": {
        "id": "FBxNzF3GKAgr"
      }
    },
    {
      "cell_type": "code",
      "source": [
        "if test expression:\n",
        " statement(s)\n"
      ],
      "metadata": {
        "id": "CGBHZoHoJMYx"
      },
      "execution_count": null,
      "outputs": []
    },
    {
      "cell_type": "markdown",
      "source": [
        "**example: Python IF Statement**"
      ],
      "metadata": {
        "id": "im62JInSKIno"
      }
    },
    {
      "cell_type": "code",
      "source": [
        "# jika angka adalah bilangan positif maka print\"adalah bilangan positif\"\n",
        "angka = 3\n",
        "if angka > 0:\n",
        " print(angka, \"adalah bilangan positif.\")\n",
        "print(\"pernyataan ini selalu ditampilkan.\")\n",
        "angka = -1\n",
        "if angka > 0:\n",
        " print(angka, \" adalah bilangan positif.\")\n",
        "print(\" pernyataan ini juga selalu ditampilkan.\")"
      ],
      "metadata": {
        "colab": {
          "base_uri": "https://localhost:8080/"
        },
        "id": "BW3a78JhKKSZ",
        "outputId": "5acfd974-dde8-4506-ab41-9103b2e5bae7"
      },
      "execution_count": 10,
      "outputs": [
        {
          "output_type": "stream",
          "name": "stdout",
          "text": [
            "3 adalah bilangan positif.\n",
            "pernyataan ini selalu ditampilkan.\n",
            " pernyataan ini juga selalu ditampilkan.\n"
          ]
        }
      ]
    },
    {
      "cell_type": "markdown",
      "source": [
        "**IF ELSE Statement**"
      ],
      "metadata": {
        "id": "pN86cQkQKW1d"
      }
    },
    {
      "cell_type": "markdown",
      "source": [
        "**Python IF ELSE Statement Syntax**"
      ],
      "metadata": {
        "id": "KgPQvEW6KaUs"
      }
    },
    {
      "cell_type": "code",
      "source": [
        "if test expression:\n",
        " Body of if\n",
        "else :\n",
        " Body of else"
      ],
      "metadata": {
        "id": "qGK7YBG9KcrB"
      },
      "execution_count": null,
      "outputs": []
    },
    {
      "cell_type": "markdown",
      "source": [
        "**Example : Python IF ELSE Statement**"
      ],
      "metadata": {
        "id": "mo1TGKFZKfe4"
      }
    },
    {
      "cell_type": "code",
      "source": [
        "#program disusun untuk mengecek apakah angka tersebut kurang dari 0 atau tidak\n",
        "# dan menampilkan tulisan yang sesuai\n",
        "angka = 3\n",
        "if angka >= 0:\n",
        " print(\"bilangan lebih dari atau sama dengan 0\")\n",
        "else:\n",
        " print(\"bilangan kurang dari 0\")\n",
        "\n",
        "\n"
      ],
      "metadata": {
        "colab": {
          "base_uri": "https://localhost:8080/"
        },
        "id": "V0W9jpakKi-N",
        "outputId": "632d0459-8141-4b3e-9f88-5395e82d0adc"
      },
      "execution_count": 12,
      "outputs": [
        {
          "output_type": "stream",
          "name": "stdout",
          "text": [
            "bilangan lebih dari atau sama dengan 0\n"
          ]
        }
      ]
    },
    {
      "cell_type": "code",
      "source": [
        "# program disusun untuk mengecek apakah dua buah angka sama atau tidak\n",
        "#dan menampilkan tulisan yang sesuai\n",
        "a = 5\n",
        "b = 5\n",
        "if a==b:\n",
        " print(\"a dan b bernilai sama\")\n",
        "else:\n",
        " print(\"a dan b bernilai berbeda\")\n",
        " print(\"belajar If Else\")"
      ],
      "metadata": {
        "colab": {
          "base_uri": "https://localhost:8080/"
        },
        "id": "WyT7zz4oK05G",
        "outputId": "1584ef88-07fe-485c-e222-dd7883e0d35d"
      },
      "execution_count": 13,
      "outputs": [
        {
          "output_type": "stream",
          "name": "stdout",
          "text": [
            "a dan b bernilai sama\n"
          ]
        }
      ]
    },
    {
      "cell_type": "code",
      "source": [
        "#program disusun untuk mengecek apakah perbandingan dua buah angka\n",
        "#dan menampilkan tulisan yang sesuai\n",
        "#membaca dua angka\n",
        "bil1 = int(input(\"masukkan bilangan pertama: \"))\n",
        "bil2 = int(input(\"masukkan bilangan kedua: \"))\n",
        "#memilih bilangan yang lebih besar\n",
        "if bil1 > bil2:\n",
        " bil_lebih_besar = bil1\n",
        "else:\n",
        " bil_lebih_besar = bil2\n",
        "#menampilkan hasil\n",
        "print(\"bilangan yang lebih besar adalah: \", bil_lebih_besar)"
      ],
      "metadata": {
        "colab": {
          "base_uri": "https://localhost:8080/"
        },
        "id": "Y9-QDDM9K2Yz",
        "outputId": "45a6f0f7-f1b9-442a-c32b-fcc252b333d3"
      },
      "execution_count": 14,
      "outputs": [
        {
          "output_type": "stream",
          "name": "stdout",
          "text": [
            "masukkan bilangan pertama: 3\n",
            "masukkan bilangan kedua: 5\n",
            "bilangan yang lebih besar adalah:  5\n"
          ]
        }
      ]
    },
    {
      "cell_type": "markdown",
      "source": [
        "**IF ELSE Statement**\n"
      ],
      "metadata": {
        "id": "BimhHR94LMeZ"
      }
    },
    {
      "cell_type": "markdown",
      "source": [
        "**Python IF ELSE Statement Syntax**"
      ],
      "metadata": {
        "id": "wjoJmRAtLOWh"
      }
    },
    {
      "cell_type": "code",
      "source": [
        "if test expression:\n",
        " Body of if\n",
        "else :\n",
        " Body of else"
      ],
      "metadata": {
        "id": "SUv54-UALRze"
      },
      "execution_count": null,
      "outputs": []
    },
    {
      "cell_type": "markdown",
      "source": [
        "**Example : Python IF ELSE Statement**"
      ],
      "metadata": {
        "id": "cPcddzIXLVkF"
      }
    },
    {
      "cell_type": "code",
      "source": [
        "#program disusun untuk mengecek apakah angka merupakan bilanganpositif, negatif atau nol\n",
        "# dan menamapilkan tulisan yang sesuai\n",
        "\n",
        "angka = 3.4\n",
        "if angka > 0:\n",
        " print(\"bilangan positif\")\n",
        "elif num == 0:\n",
        " print(\"nol\")\n",
        "else:\n",
        " print(\"bilangan negatif\")"
      ],
      "metadata": {
        "colab": {
          "base_uri": "https://localhost:8080/"
        },
        "id": "huKbJN1bLYFP",
        "outputId": "2b4da551-4fae-489d-8107-5a03cd4a77df"
      },
      "execution_count": 16,
      "outputs": [
        {
          "output_type": "stream",
          "name": "stdout",
          "text": [
            "bilangan positif\n"
          ]
        }
      ]
    },
    {
      "cell_type": "code",
      "source": [
        "#statement if\n",
        "x = 4\n",
        "if x % 2 == 0: #jika x dibagi 2 sisanya sama dengan 0\n",
        " print(\"x habis dibagi dua\")\n",
        "# statement if ... elif ... else\n",
        "x = 7\n",
        "if x % 2 == 0: #jika x dibagi 2 sisanya sama dengan 0\n",
        " print(\"x habis dibagi dua\")\n",
        "elif x % 3 == 0: #jika x dibagi 3 sisanya sama dengan 0\n",
        " print(\"x habis dibagi tiga\")\n",
        "elif x % 5 == 0: #jika x dibagi 2 sisanya sama dengan 0\n",
        "  print(\"x habis dibagi lima\")\n",
        "else:\n",
        " print(\"x tidak habis dibagi dua, tiga ataupun lima\")"
      ],
      "metadata": {
        "colab": {
          "base_uri": "https://localhost:8080/"
        },
        "id": "SxwP0rpRLcnP",
        "outputId": "9a8db306-34bb-46ce-9601-e2dbe8ae5270"
      },
      "execution_count": 18,
      "outputs": [
        {
          "output_type": "stream",
          "name": "stdout",
          "text": [
            "x habis dibagi dua\n",
            "x tidak habis dibagi dua, tiga ataupun lima\n"
          ]
        }
      ]
    },
    {
      "cell_type": "markdown",
      "source": [
        "**Python nested IF statements**\n"
      ],
      "metadata": {
        "id": "jptsu0WFLo7_"
      }
    },
    {
      "cell_type": "markdown",
      "source": [
        "**example: Python NESTED IF statement**"
      ],
      "metadata": {
        "id": "LI8X_X38LsdP"
      }
    },
    {
      "cell_type": "code",
      "source": [
        "# program disusun untuk mengecek apakah angka merupakan bilangan positif, negatif atau nol\n",
        "#dan menampilkan tulisan yang sesuai\n",
        "\n",
        "angka = float(input(\"masukkan angka: \"))\n",
        "if angka >= 0:\n",
        " if angka == 0:\n",
        "    print(\"nol\")\n",
        " else:\n",
        "    print(\"bilangan positif\")\n",
        "else:\n",
        " print(\"bilagan negatif\")"
      ],
      "metadata": {
        "colab": {
          "base_uri": "https://localhost:8080/"
        },
        "id": "IsseRoijLvKm",
        "outputId": "4ee81a24-0074-4edb-f3eb-1324aa534325"
      },
      "execution_count": 20,
      "outputs": [
        {
          "output_type": "stream",
          "name": "stdout",
          "text": [
            "masukkan angka: 4\n",
            "bilangan positif\n"
          ]
        }
      ]
    },
    {
      "cell_type": "markdown",
      "source": [
        "Latihan\n",
        "\n",
        "\n",
        "Buatlah sebuah fungsi \"Mahal Diskon dengan ketentuan:\n",
        "\n",
        "\n",
        "• Input berupa data harga produk dengan tipe data numerik Tunggal\n",
        "\n",
        "\n",
        "• Kategori input adalah \"Murah\" dan \"Mahal\", kemudian diskon ada 3 kategori \"10%\",\n",
        "\"20%\", dan \"40%\"\n",
        "\n",
        "\n",
        "• Output Pertama sebuah teks/string yang menyatakan \"Mahal\" atau \"Murah dan\n",
        "Keterangan \"Kamu Dapat Diskon..\n",
        "\n",
        "\n",
        "• Output Kedua adalah harga yang perlu dibayarkan"
      ],
      "metadata": {
        "id": "Qu_8BGkKMDhK"
      }
    },
    {
      "cell_type": "code",
      "source": [
        "# ketikan codingan anda\n",
        "harga = float(input(\"masukkan harga: \"))\n",
        "if harga >= 100000:\n",
        "    print(\"Mahal\")\n",
        "    if harga >= 100000 and harga < 200000:\n",
        "      diskon = \"10%\"\n",
        "      harga_diskon = harga - (harga * 0.1)\n",
        "    elif harga >= 200000 and harga < 500000:\n",
        "      diskon = \"20%\"\n",
        "      harga_diskon = harga - (harga * 0.2)\n",
        "    else:\n",
        "      diskon = \"40%\"\n",
        "      harga_diskon = harga - (harga * 0.4)\n",
        "      print(\"Kamu Dapat Diskon \" , diskon)\n",
        "else:\n",
        "    print(\"Murah\")\n",
        "    harga_diskon = harga\n",
        "    print(\"\")\n",
        "print(\"harga yang perlu dibayarkan\", harga_diskon)\n",
        ""
      ],
      "metadata": {
        "colab": {
          "base_uri": "https://localhost:8080/"
        },
        "id": "kqDIW2KLMEqV",
        "outputId": "3682643d-c8c6-44e9-9f1d-cd158ce0616b"
      },
      "execution_count": 22,
      "outputs": [
        {
          "output_type": "stream",
          "name": "stdout",
          "text": [
            "masukkan harga: 150000\n",
            "Mahal\n",
            "harga yang perlu dibayarkan 135000.0\n"
          ]
        }
      ]
    },
    {
      "cell_type": "code",
      "source": [
        "# ketikan codingan anda\n",
        "harga = float(input(\"masukkan harga: \"))\n",
        "if harga >= 100000:\n",
        "    print(\"Mahal\")\n",
        "    if harga >= 100000 and harga < 200000:\n",
        "      diskon = \"10%\"\n",
        "      harga_diskon = harga - (harga * 0.1)\n",
        "    elif harga >= 200000 and harga < 500000:\n",
        "      diskon = \"20%\"\n",
        "      harga_diskon = harga - (harga * 0.2)\n",
        "    else:\n",
        "      diskon = \"40%\"\n",
        "      harga_diskon = harga - (harga * 0.4)\n",
        "      print(\"Kamu Dapat Diskon \" , diskon)\n",
        "else:\n",
        "    print(\"Murah\")\n",
        "    harga_diskon = harga\n",
        "    print(\"\")\n",
        "print(\"harga yang perlu dibayarkan\", harga_diskon)"
      ],
      "metadata": {
        "colab": {
          "base_uri": "https://localhost:8080/"
        },
        "id": "TRJ3tE0CL1DW",
        "outputId": "fb7811a5-d0df-4c58-9659-b10ac100e192"
      },
      "execution_count": 24,
      "outputs": [
        {
          "output_type": "stream",
          "name": "stdout",
          "text": [
            "masukkan harga: 99000\n",
            "Murah\n",
            "\n",
            "harga yang perlu dibayarkan 99000.0\n"
          ]
        }
      ]
    },
    {
      "cell_type": "code",
      "source": [
        "\n"
      ],
      "metadata": {
        "id": "n9ONhplXK7QA"
      },
      "execution_count": null,
      "outputs": []
    }
  ]
}
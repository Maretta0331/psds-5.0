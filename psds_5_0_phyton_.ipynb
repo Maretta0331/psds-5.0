{
  "nbformat": 4,
  "nbformat_minor": 0,
  "metadata": {
    "colab": {
      "provenance": []
    },
    "kernelspec": {
      "name": "python3",
      "display_name": "Python 3"
    },
    "language_info": {
      "name": "python"
    }
  },
  "cells": [
    {
      "cell_type": "markdown",
      "source": [
        "Pengenalan Phyton\n",
        "\n",
        "Phyton adalah bahasa pemrograman tingkat tinggi dengan dynamic semantics, bersifat object, oriented, dan interpretatif. Bahasa pemrograman ini fokus dikembangkan pada keterbacaan bahasa pemrograman.\n",
        "\n",
        "\n",
        "\n",
        "1.   **Bahasa Pemrograman Tingkat Tinggi(High Level Programming)** Artinya sintaks kode lebih mudah ditafsirkan oleh manusia\n",
        "2.   **Interpretatif** Ini artinya bahasa ini memerlukan interpeter atau penerjemah. Ini memungkinkan kita untuk menggunakan bahasa yang lebih mudah kita pahami.\n",
        "\n",
        "1.   **Object Oriented** Ini berarti bahwa bahasa  pemrograman ini berorientasi kepada objek. Hal inimembuat phyton lebih mudah untuk dikembangkan.\n",
        "2.   **Dynamic Semantic** Python secara otomatis akan menyesuaikan tipe dari suatu variable berdasarkan inputnya\n",
        "\n",
        "\n",
        "\n",
        "\n"
      ],
      "metadata": {
        "id": "CrSERuFT1j2v"
      }
    },
    {
      "cell_type": "markdown",
      "source": [
        "Mengapa Phyton?\n",
        "\n",
        "\n",
        "\n",
        "1.   Mudah dipahami\n",
        "2.   Grafis & Open Source\n",
        "\n",
        "1.   Dinamis\n",
        "2.   Memliki Library Terlengkap untuk Data Sains\n",
        "\n",
        "\n",
        "\n"
      ],
      "metadata": {
        "id": "VIYp5NLW4ZXN"
      }
    },
    {
      "cell_type": "markdown",
      "source": [
        "Struktur Program Pada Phyton\n",
        "\n",
        "Phyton pada umumnya terdiri atas:\n",
        "\n",
        "\n",
        "1.   **Statment**\n",
        "\n",
        "\n"
      ],
      "metadata": {
        "id": "RF8k-INM47hk"
      }
    },
    {
      "cell_type": "code",
      "source": [
        "print(\"belajar phyton menyenangkan\")\n",
        "print(\"halo dunia\")"
      ],
      "metadata": {
        "colab": {
          "base_uri": "https://localhost:8080/"
        },
        "id": "TcJVKfCC5T4r",
        "outputId": "6693bfe0-8b18-4d6b-9417-ef9aaeb5122a"
      },
      "execution_count": 1,
      "outputs": [
        {
          "output_type": "stream",
          "name": "stdout",
          "text": [
            "belajar phyton menyenangkan\n",
            "halo dunia\n"
          ]
        }
      ]
    },
    {
      "cell_type": "markdown",
      "source": [
        "\n",
        "2.   **Variables**\n",
        "\n"
      ],
      "metadata": {
        "id": "X4K3B9A55eLD"
      }
    },
    {
      "cell_type": "code",
      "source": [
        "bilangan1 = 5\n",
        "bilangan2 = 10\n",
        "kalimat =\"Pejuang Data 3\""
      ],
      "metadata": {
        "id": "Pw_hWMi13UWt"
      },
      "execution_count": 2,
      "outputs": []
    },
    {
      "cell_type": "markdown",
      "source": [
        "\n",
        "\n",
        "3.   **Literals** : Simbo;-simbol yang dapat kita gunakan untuk mengisi suatu variable.\n",
        "\n",
        "\n"
      ],
      "metadata": {
        "id": "zi5rA-SP52l9"
      }
    },
    {
      "cell_type": "markdown",
      "source": [
        "\n",
        "\n",
        "4.   **Operators** :Simbol- simbol yang dapat digunakan untuk mengubah nilai dari satu variable  dengan melibatkan satu atau lebh variable dan literal\n",
        "\n",
        "\n"
      ],
      "metadata": {
        "id": "AQkH2XTs6FUI"
      }
    },
    {
      "cell_type": "code",
      "execution_count": 3,
      "metadata": {
        "colab": {
          "base_uri": "https://localhost:8080/"
        },
        "id": "_T9gxlCn1bql",
        "outputId": "e0c00074-91ba-450c-8dfb-34b5cff3ca95"
      },
      "outputs": [
        {
          "output_type": "execute_result",
          "data": {
            "text/plain": [
              "15"
            ]
          },
          "metadata": {},
          "execution_count": 3
        }
      ],
      "source": [
        "bilangan1 + bilangan2"
      ]
    },
    {
      "cell_type": "markdown",
      "source": [
        "\n",
        "\n",
        "5.   **Reserved Word** : Kumpulan kata-kata yang memiliki makna khusus dalam bahasa pemrograman Phython. Kata false, return, dan for merupakan contoh dari reserved words.\n",
        "\n"
      ],
      "metadata": {
        "id": "nMCTxIqr6cA6"
      }
    },
    {
      "cell_type": "markdown",
      "source": [
        "\n",
        "\n",
        "6.   **Whitespace** : Pada bahasa phyton, spas dan tab memiliki makna khusus untuk menandai serangkaian blok dalam kode phyton.\n",
        "\n"
      ],
      "metadata": {
        "id": "g88fzCb16zWy"
      }
    },
    {
      "cell_type": "markdown",
      "source": [
        "\n",
        "\n",
        "7.   **Comments** : Comments merupakan sekumpulan teks yang dituliskan di dalam sebuah program yang tidak akan mempengaruhi hasil dari sebuah pemrograman.\n",
        "\n",
        "    Terdapat dua jenis comments di dalam phyton, yaitu:\n",
        "\n",
        "\n",
        "*   **Single line comment** (comments dalam satu baris) seperti contoh berikut\n",
        "\n",
        "\n",
        "\n",
        "\n",
        "\n",
        "\n",
        "\n",
        "\n",
        "\n",
        "\n",
        "\n",
        "\n",
        "\n",
        "\n",
        "\n",
        "\n",
        "\n",
        "\n"
      ],
      "metadata": {
        "id": "xFfAFY6M7HeC"
      }
    },
    {
      "cell_type": "code",
      "source": [
        "# Ini adalah comment\n",
        "print(\"belajar phyton\")"
      ],
      "metadata": {
        "colab": {
          "base_uri": "https://localhost:8080/"
        },
        "id": "r9G-gfYR8OBK",
        "outputId": "b421e8cf-ef09-4fa6-9513-751c97611e87"
      },
      "execution_count": 4,
      "outputs": [
        {
          "output_type": "stream",
          "name": "stdout",
          "text": [
            "belajar phyton\n"
          ]
        }
      ]
    },
    {
      "cell_type": "markdown",
      "source": [
        "\n",
        "\n",
        "*   **multi line comment** (commentsa dalam beberapa baris) yang dapat dilakukan seperti pada contoh berikut :\n",
        "\n"
      ],
      "metadata": {
        "id": "hBqJiAWS8YQp"
      }
    },
    {
      "cell_type": "code",
      "source": [
        "'''\n",
        "Ini adalah komentar panjang\n",
        "Bisa digunakan untuk memberikan penjelasan\n",
        "panjang pada sell kode phyton,\n",
        "Misal dokumentasi program, spesifikasi\n",
        "input, output atau lainnya\n",
        "'''\n",
        "\n",
        "print(\"belajar phyton menyenangkan\")"
      ],
      "metadata": {
        "colab": {
          "base_uri": "https://localhost:8080/"
        },
        "id": "nXYjfF4o8qA5",
        "outputId": "78c10fef-c0d1-4717-e69c-c0a3a05aa145"
      },
      "execution_count": 6,
      "outputs": [
        {
          "output_type": "stream",
          "name": "stdout",
          "text": [
            "belajar phyton menyenangkan\n"
          ]
        }
      ]
    }
  ]
}
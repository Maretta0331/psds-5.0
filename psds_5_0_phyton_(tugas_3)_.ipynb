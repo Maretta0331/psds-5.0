{
  "nbformat": 4,
  "nbformat_minor": 0,
  "metadata": {
    "colab": {
      "provenance": []
    },
    "kernelspec": {
      "name": "python3",
      "display_name": "Python 3"
    },
    "language_info": {
      "name": "python"
    }
  },
  "cells": [
    {
      "cell_type": "markdown",
      "source": [
        "Pengenalan Phyton\n",
        "\n",
        "Phyton adalah bahasa pemrograman tingkat tinggi dengan dynamic semantics, bersifat object, oriented, dan interpretatif. Bahasa pemrograman ini fokus dikembangkan pada keterbacaan bahasa pemrograman.\n",
        "\n",
        "\n",
        "\n",
        "1.   **Bahasa Pemrograman Tingkat Tinggi(High Level Programming)** Artinya sintaks kode lebih mudah ditafsirkan oleh manusia\n",
        "2.   **Interpretatif** Ini artinya bahasa ini memerlukan interpeter atau penerjemah. Ini memungkinkan kita untuk menggunakan bahasa yang lebih mudah kita pahami.\n",
        "\n",
        "1.   **Object Oriented** Ini berarti bahwa bahasa  pemrograman ini berorientasi kepada objek. Hal inimembuat phyton lebih mudah untuk dikembangkan.\n",
        "2.   **Dynamic Semantic** Python secara otomatis akan menyesuaikan tipe dari suatu variable berdasarkan inputnya\n",
        "\n",
        "\n",
        "\n",
        "\n"
      ],
      "metadata": {
        "id": "CrSERuFT1j2v"
      }
    },
    {
      "cell_type": "markdown",
      "source": [
        "Mengapa Phyton?\n",
        "\n",
        "\n",
        "\n",
        "1.   Mudah dipahami\n",
        "2.   Grafis & Open Source\n",
        "\n",
        "1.   Dinamis\n",
        "2.   Memliki Library Terlengkap untuk Data Sains\n",
        "\n",
        "\n",
        "\n"
      ],
      "metadata": {
        "id": "VIYp5NLW4ZXN"
      }
    },
    {
      "cell_type": "markdown",
      "source": [
        "Struktur Program Pada Phyton\n",
        "\n",
        "Phyton pada umumnya terdiri atas:\n",
        "\n",
        "\n",
        "1.   **Statment**\n",
        "\n",
        "\n"
      ],
      "metadata": {
        "id": "RF8k-INM47hk"
      }
    },
    {
      "cell_type": "code",
      "source": [
        "print(\"belajar phyton menyenangkan\")\n",
        "print(\"halo dunia\")"
      ],
      "metadata": {
        "colab": {
          "base_uri": "https://localhost:8080/"
        },
        "id": "TcJVKfCC5T4r",
        "outputId": "6693bfe0-8b18-4d6b-9417-ef9aaeb5122a"
      },
      "execution_count": null,
      "outputs": [
        {
          "output_type": "stream",
          "name": "stdout",
          "text": [
            "belajar phyton menyenangkan\n",
            "halo dunia\n"
          ]
        }
      ]
    },
    {
      "cell_type": "markdown",
      "source": [
        "\n",
        "2.   **Variables**\n",
        "\n"
      ],
      "metadata": {
        "id": "X4K3B9A55eLD"
      }
    },
    {
      "cell_type": "code",
      "source": [
        "bilangan1 = 5\n",
        "bilangan2 = 10\n",
        "kalimat =\"Pejuang Data 3\""
      ],
      "metadata": {
        "id": "Pw_hWMi13UWt"
      },
      "execution_count": null,
      "outputs": []
    },
    {
      "cell_type": "markdown",
      "source": [
        "\n",
        "\n",
        "3.   **Literals** : Simbo;-simbol yang dapat kita gunakan untuk mengisi suatu variable.\n",
        "\n",
        "\n"
      ],
      "metadata": {
        "id": "zi5rA-SP52l9"
      }
    },
    {
      "cell_type": "markdown",
      "source": [
        "\n",
        "\n",
        "4.   **Operators** :Simbol- simbol yang dapat digunakan untuk mengubah nilai dari satu variable  dengan melibatkan satu atau lebh variable dan literal\n",
        "\n",
        "\n"
      ],
      "metadata": {
        "id": "AQkH2XTs6FUI"
      }
    },
    {
      "cell_type": "code",
      "execution_count": null,
      "metadata": {
        "colab": {
          "base_uri": "https://localhost:8080/"
        },
        "id": "_T9gxlCn1bql",
        "outputId": "e0c00074-91ba-450c-8dfb-34b5cff3ca95"
      },
      "outputs": [
        {
          "output_type": "execute_result",
          "data": {
            "text/plain": [
              "15"
            ]
          },
          "metadata": {},
          "execution_count": 3
        }
      ],
      "source": [
        "bilangan1 + bilangan2"
      ]
    },
    {
      "cell_type": "markdown",
      "source": [
        "\n",
        "\n",
        "5.   **Reserved Word** : Kumpulan kata-kata yang memiliki makna khusus dalam bahasa pemrograman Phython. Kata false, return, dan for merupakan contoh dari reserved words.\n",
        "\n"
      ],
      "metadata": {
        "id": "nMCTxIqr6cA6"
      }
    },
    {
      "cell_type": "markdown",
      "source": [
        "\n",
        "\n",
        "6.   **Whitespace** : Pada bahasa phyton, spas dan tab memiliki makna khusus untuk menandai serangkaian blok dalam kode phyton.\n",
        "\n"
      ],
      "metadata": {
        "id": "g88fzCb16zWy"
      }
    },
    {
      "cell_type": "markdown",
      "source": [
        "\n",
        "\n",
        "7.   **Comments** : Comments merupakan sekumpulan teks yang dituliskan di dalam sebuah program yang tidak akan mempengaruhi hasil dari sebuah pemrograman.\n",
        "\n",
        "    Terdapat dua jenis comments di dalam phyton, yaitu:\n",
        "\n",
        "\n",
        "*   **Single line comment** (comments dalam satu baris) seperti contoh berikut\n",
        "\n",
        "\n",
        "\n",
        "\n",
        "\n",
        "\n",
        "\n",
        "\n",
        "\n",
        "\n",
        "\n",
        "\n",
        "\n",
        "\n",
        "\n",
        "\n",
        "\n",
        "\n"
      ],
      "metadata": {
        "id": "xFfAFY6M7HeC"
      }
    },
    {
      "cell_type": "code",
      "source": [
        "# Ini adalah comment\n",
        "print(\"belajar phyton\")"
      ],
      "metadata": {
        "colab": {
          "base_uri": "https://localhost:8080/"
        },
        "id": "r9G-gfYR8OBK",
        "outputId": "b421e8cf-ef09-4fa6-9513-751c97611e87"
      },
      "execution_count": null,
      "outputs": [
        {
          "output_type": "stream",
          "name": "stdout",
          "text": [
            "belajar phyton\n"
          ]
        }
      ]
    },
    {
      "cell_type": "markdown",
      "source": [
        "\n",
        "\n",
        "*   **multi line comment** (commentsa dalam beberapa baris) yang dapat dilakukan seperti pada contoh berikut :\n",
        "\n"
      ],
      "metadata": {
        "id": "hBqJiAWS8YQp"
      }
    },
    {
      "cell_type": "code",
      "source": [
        "'''\n",
        "Ini adalah komentar panjang\n",
        "Bisa digunakan untuk memberikan penjelasan\n",
        "panjang pada sell kode phyton,\n",
        "Misal dokumentasi program, spesifikasi\n",
        "input, output atau lainnya\n",
        "'''\n",
        "\n",
        "print(\"belajar phyton menyenangkan\")"
      ],
      "metadata": {
        "colab": {
          "base_uri": "https://localhost:8080/"
        },
        "id": "nXYjfF4o8qA5",
        "outputId": "78c10fef-c0d1-4717-e69c-c0a3a05aa145"
      },
      "execution_count": null,
      "outputs": [
        {
          "output_type": "stream",
          "name": "stdout",
          "text": [
            "belajar phyton menyenangkan\n"
          ]
        }
      ]
    },
    {
      "cell_type": "markdown",
      "source": [
        "**OPERATOR**\n",
        "\n",
        "Operator simbol-simbol yang dapat digunakan untuk mengubaah nilai dari satu variabel dengan melibatkan satu atau lebih variabel dan literal.\n",
        "\n",
        "Tipe-tipe operator :\n",
        "\n",
        "\n",
        "1.   Operator Aritmatika\n",
        "2.   Operator Assignment\n",
        "\n",
        "1.   Operator pembanding\n",
        "2.   Operator Logika\n",
        "\n",
        "1.   Operator Membership\n",
        "\n",
        "\n",
        "\n",
        "\n",
        "\n",
        "\n"
      ],
      "metadata": {
        "id": "y9nWVJ2rCY2_"
      }
    },
    {
      "cell_type": "markdown",
      "source": [
        "**OPERATOR ARITMATIKA**\n",
        "\n",
        "Operator Aritmatika digunakan untuk melakukan operasi matematika yang umum.\n",
        "\n",
        "Macam-macam operator aritmatika, yaitu:\n",
        "\n",
        "+ : Penjumlahan\n",
        "- : Pengurangan\n",
        "* : Perkalian\n",
        "/ : Pembagian\n",
        "% : Modulus\n",
        "** : Perpangkatan\n",
        "// : Pembagian dengan hasil pembulatan flooring\n",
        "\n",
        "\n",
        "\n"
      ],
      "metadata": {
        "id": "DiJp_rb8DbCc"
      }
    },
    {
      "cell_type": "markdown",
      "source": [
        "Contoh Penggunaan Operator Aritmatika"
      ],
      "metadata": {
        "id": "1ruOnyYoEw-u"
      }
    },
    {
      "cell_type": "code",
      "source": [
        "#Penjumlahan\n",
        "print('Penjumlahan')\n",
        "print('-'*20)\n",
        "print(2+2)\n",
        "\n",
        "#Pengurangan\n",
        "print('Pengurangan')\n",
        "print('-'*20)\n",
        "print(2-3)\n",
        "\n",
        "#Perkalian\n",
        "print('Perkalian')\n",
        "print(2*3)\n",
        "\n",
        "#Pembagian\n",
        "print('Pembagian')\n",
        "print('-'*20)\n",
        "print(2/3)\n",
        "\n",
        "#Modulus\n",
        "print('Modulus')\n",
        "print('-'*20)\n",
        "print(3%2)\n",
        "\n",
        "#Perpangkatan\n",
        "print('Perpangkatan')\n",
        "print('-'*20)\n",
        "print(2**3)\n",
        "\n",
        "#Pembagian dengan hasil pembulatan flooring\n",
        "print('pembagian pe,bulatan flooring')\n",
        "print('-'*20)\n",
        "print(3//2)"
      ],
      "metadata": {
        "colab": {
          "base_uri": "https://localhost:8080/"
        },
        "id": "X5atmBYaE1xx",
        "outputId": "1d19c560-037d-4086-eee2-db79f3176ab0"
      },
      "execution_count": null,
      "outputs": [
        {
          "output_type": "stream",
          "name": "stdout",
          "text": [
            "Penjumlahan\n",
            "--------------------\n",
            "4\n",
            "Pengurangan\n",
            "--------------------\n",
            "-1\n",
            "Perkalian\n",
            "6\n",
            "Pembagian\n",
            "--------------------\n",
            "0.6666666666666666\n",
            "Modulus\n",
            "--------------------\n",
            "1\n",
            "Perpangkatan\n",
            "--------------------\n",
            "8\n",
            "pembagian pe,bulatan flooring\n",
            "--------------------\n",
            "1\n"
          ]
        }
      ]
    },
    {
      "cell_type": "markdown",
      "source": [
        "**Latihan Operator 1**"
      ],
      "metadata": {
        "id": "3BVaABwXFaet"
      }
    },
    {
      "cell_type": "code",
      "source": [
        "#Buatlah Program penerapan operator Aritmatika dengan nilai-nilai yang berbeda dari contoh di atas."
      ],
      "metadata": {
        "id": "7D0KCKWwFha4"
      },
      "execution_count": null,
      "outputs": []
    },
    {
      "cell_type": "code",
      "source": [
        "#Penjumlahan\n",
        "print('Penjumlahan')\n",
        "print('5+5 =',5+5)\n",
        "\n",
        "#Pengurangan\n",
        "print('Pengurangan')\n",
        "print('5-5 =',5-5)\n",
        "\n",
        "#Perkalian\n",
        "print('Perkalian')\n",
        "print('5*5 =',5*5)\n",
        "\n",
        "#Pembagian\n",
        "print('Pembagian')\n",
        "print('5/5 =',5/5)\n",
        "\n",
        "#Modulus\n",
        "print('Modulus')\n",
        "print('5%5 =',5%5)\n",
        "\n",
        "#Perpangkatan\n",
        "print('Perpangkatan')\n",
        "print('5**5 =',5**5)\n",
        "\n",
        "#Pembagian dengan hasil pembulatan flooring\n",
        "print('Pembagian pembulatan floring')\n",
        "print('5//2 =',5//2)"
      ],
      "metadata": {
        "colab": {
          "base_uri": "https://localhost:8080/"
        },
        "id": "JIQeSULjFtES",
        "outputId": "e5dc56cf-4256-46ac-d918-842aa24f9187"
      },
      "execution_count": null,
      "outputs": [
        {
          "output_type": "stream",
          "name": "stdout",
          "text": [
            "Penjumlahan\n",
            "5+5 = 10\n",
            "Pengurangan\n",
            "5-5 = 0\n",
            "Perkalian\n",
            "5*5 = 25\n",
            "Pembagian\n",
            "5/5 = 1.0\n",
            "Modulus\n",
            "5%5 = 0\n",
            "Perpangkatan\n",
            "5**5 = 3125\n",
            "Pembagian pembulatan floring\n",
            "5//2 = 2\n"
          ]
        }
      ]
    },
    {
      "cell_type": "markdown",
      "source": [
        "**Operator Asignment**\n",
        "\n",
        "Operator Assignment digunakan untuk menyimpan nilai menjadi suatu variabel.\n",
        "\n",
        "= : Contohnya x = 5-> x = 5\n",
        "\n",
        "+= : Contohnya x = x + 5 -> x += 5\n",
        "\n",
        "-= :Contohnya x = x - 5 -> x -= 5\n",
        "\n",
        "*= : Contohnya x = x * 5 -> x *= 5\n",
        "\n",
        "/= : Contohnya x = x / 5 -> x /= 5\n",
        "\n",
        "%= : Contohnya x = x % 5 -> x %= 5\n",
        "\n",
        "//= : Contohnya x = x // 5 -> x // 4\n",
        "\n",
        "**= : Contohnya x = x * * 5 -> x * *=5\n"
      ],
      "metadata": {
        "id": "ymx1XOroH8Fq"
      }
    },
    {
      "cell_type": "markdown",
      "source": [
        "Contoh Penggunaan Operator Assignment"
      ],
      "metadata": {
        "id": "wv2rqeopKH0K"
      }
    },
    {
      "cell_type": "code",
      "source": [
        "#Penjumlahan\n",
        "print('Penjumlahan')\n",
        "x=5\n",
        "x=x+5\n",
        "print(x)\n",
        "x=5\n",
        "x+=5\n",
        "print(x)\n",
        "print('-'*20)\n",
        "\n",
        "#Pengurangan\n",
        "print('Pengurangan')\n",
        "x=5\n",
        "x=x-5\n",
        "print(x)\n",
        "x=5\n",
        "x-=3\n",
        "print(x)\n",
        "print('-'*20)\n",
        "\n",
        "#Perkalian\n",
        "print('perkalian')\n",
        "x=5\n",
        "x=x*5\n",
        "print(x)\n",
        "x=5\n",
        "x*=3\n",
        "print(x)\n",
        "print('-'*20)\n",
        "\n",
        "#Pembagian\n",
        "print('Pembagian')\n",
        "x=5\n",
        "x=x/5\n",
        "print(x)\n",
        "x=5\n",
        "x/=3\n",
        "print(x)\n",
        "print('-'*20)\n",
        "\n",
        "#Modulus\n",
        "print('Modulus')\n",
        "x=5\n",
        "x=x%5\n",
        "print(x)\n",
        "x=5\n",
        "x%=3\n",
        "print(x)\n",
        "print('-'*20)\n",
        "\n",
        "#Pembagian Flooring\n",
        "print('Pembagian Flooring')\n",
        "x=5\n",
        "x=x//5\n",
        "print(x)\n",
        "x=5\n",
        "x//=3\n",
        "print(x)\n",
        "print('-'*20)\n",
        "\n",
        "#Perpangkatan\n",
        "print('perpangkatan')\n",
        "x=5\n",
        "x=x**5\n",
        "print(x)\n",
        "x=5\n",
        "x**=3\n",
        "print(x)\n",
        "print('-'*20)"
      ],
      "metadata": {
        "colab": {
          "base_uri": "https://localhost:8080/"
        },
        "id": "j93OSTf5KOvJ",
        "outputId": "2668b542-7cfc-411c-9b2b-6adb52e475bb"
      },
      "execution_count": null,
      "outputs": [
        {
          "output_type": "stream",
          "name": "stdout",
          "text": [
            "Penjumlahan\n",
            "10\n",
            "10\n",
            "--------------------\n",
            "Pengurangan\n",
            "0\n",
            "2\n",
            "--------------------\n",
            "perkalian\n",
            "25\n",
            "15\n",
            "--------------------\n",
            "Pembagian\n",
            "1.0\n",
            "1.6666666666666667\n",
            "--------------------\n",
            "Modulus\n",
            "0\n",
            "2\n",
            "--------------------\n",
            "Pembagian Flooring\n",
            "1\n",
            "1\n",
            "--------------------\n",
            "perpangkatan\n",
            "3125\n",
            "125\n",
            "--------------------\n"
          ]
        }
      ]
    },
    {
      "cell_type": "markdown",
      "source": [
        "Latihan Operator 2"
      ],
      "metadata": {
        "id": "butXQQjAQJuj"
      }
    },
    {
      "cell_type": "code",
      "source": [
        "#Buatlah program penerapan operator assignment dengan nilai nilai yang berbeda dari contoh diatas\n",
        "\n",
        "#Penjumlahan\n",
        "print('Penjumlahan')\n",
        "x=10\n",
        "x=x+10\n",
        "print('10+10=',x)\n",
        "x=10\n",
        "x+=5\n",
        "print('10+5',x)\n",
        "print('-'*20)\n",
        "\n",
        "#Pengurangan\n",
        "print('Pengurangan')\n",
        "x=10\n",
        "x=x-10\n",
        "print('10-10=',x)\n",
        "x=10\n",
        "x-=5\n",
        "print('10-5=',x)\n",
        "print('-'*20)\n",
        "\n",
        "#Perkalian\n",
        "print('perkalian')\n",
        "x=10\n",
        "x=x*10\n",
        "print('10*10=',x)\n",
        "x=10\n",
        "x*=5\n",
        "print('10*5=',x)\n",
        "print('-'*20)\n",
        "\n",
        "#Pembagian\n",
        "print('Pembagian')\n",
        "x=10\n",
        "x=x/10\n",
        "print('10/10',x)\n",
        "x=10\n",
        "x/=5\n",
        "print('10/5=',x)\n",
        "print('-'*20)\n",
        "\n",
        "#Modulus\n",
        "print('Modulus')\n",
        "x=10\n",
        "x=x%10\n",
        "print('10%10=',x)\n",
        "x=10\n",
        "x%=4\n",
        "print('10%4=',x)\n",
        "print('-'*20)\n",
        "\n",
        "#Pembagian Flooring\n",
        "print('Pembagian Flooring')\n",
        "x=10\n",
        "x=x//10\n",
        "print('10//10=',x)\n",
        "x=10\n",
        "x//=4\n",
        "print('10//4=',x)\n",
        "print('-'*20)\n",
        "\n",
        "#Perpangkatan\n",
        "print('perpangkatan')\n",
        "x=10\n",
        "x=x**10\n",
        "print('10**10=',x)\n",
        "x=10\n",
        "x**=4\n",
        "print('10**4=',x)\n",
        "print('-'*20)"
      ],
      "metadata": {
        "colab": {
          "base_uri": "https://localhost:8080/"
        },
        "id": "QKkAbcmlFtN1",
        "outputId": "95f08439-6a12-42ca-e573-edca573a0d2d"
      },
      "execution_count": null,
      "outputs": [
        {
          "output_type": "stream",
          "name": "stdout",
          "text": [
            "Penjumlahan\n",
            "10+10= 20\n",
            "10+5 15\n",
            "--------------------\n",
            "Pengurangan\n",
            "10-10= 0\n",
            "10-5= 5\n",
            "--------------------\n",
            "perkalian\n",
            "10*10= 100\n",
            "10*5= 50\n",
            "--------------------\n",
            "Pembagian\n",
            "10/10 1.0\n",
            "10/5= 2.0\n",
            "--------------------\n",
            "Modulus\n",
            "10%10= 0\n",
            "10%4= 2\n",
            "--------------------\n",
            "Pembagian Flooring\n",
            "10//10= 1\n",
            "10//4= 2\n",
            "--------------------\n",
            "perpangkatan\n",
            "10**10= 10000000000\n",
            "10**4= 10000\n",
            "--------------------\n"
          ]
        }
      ]
    },
    {
      "cell_type": "markdown",
      "source": [
        "Operator Pembanding\n",
        "\n",
        "Operator pembanding digunakan untuk membandingkan 2 nilai atau variabel.\n",
        "\n",
        "Macam-macam operatir pembanding:\n",
        "\n",
        "== -> sama dengan\n",
        "\n",
        "!= -> tidak sama dengan\n",
        "\n",
        "> -> lebih dari\n",
        "\n",
        "< -> kurang dari\n",
        "\n",
        "\n",
        "\n",
        "\n"
      ],
      "metadata": {
        "id": "bVYHYoeESwLb"
      }
    },
    {
      "cell_type": "markdown",
      "source": [
        "Contoh penggunaan operator pembanding\n"
      ],
      "metadata": {
        "id": "6Ca8Q4WuTdJE"
      }
    },
    {
      "cell_type": "code",
      "source": [
        "print(2==2)\n",
        "print(2!=2)\n",
        "print(2>2)\n",
        "print(2<2)\n",
        "print(2>=2)\n",
        "print(2<=2)"
      ],
      "metadata": {
        "colab": {
          "base_uri": "https://localhost:8080/"
        },
        "id": "wif5T-zTTio4",
        "outputId": "bc7cb71e-1e15-4e39-fba4-8e8e826761cf"
      },
      "execution_count": null,
      "outputs": [
        {
          "output_type": "stream",
          "name": "stdout",
          "text": [
            "True\n",
            "False\n",
            "False\n",
            "False\n",
            "True\n",
            "True\n"
          ]
        }
      ]
    },
    {
      "cell_type": "markdown",
      "source": [
        "Latihan Operator 3"
      ],
      "metadata": {
        "id": "ZzFnQuBnTywq"
      }
    },
    {
      "cell_type": "code",
      "source": [
        "#Buatlah program penerapan operator pembanding dengan nilai-nilai yang berbeda dari contoh di atas\n",
        "print(10==3)\n",
        "print(32!=23)\n",
        "print(23>9)\n",
        "print(1<2)\n",
        "print(3>=3)\n",
        "print(10<=11)"
      ],
      "metadata": {
        "colab": {
          "base_uri": "https://localhost:8080/"
        },
        "id": "jhxm1iEXTxk4",
        "outputId": "7f5b5f93-9c28-41b9-fcbe-e1f442716393"
      },
      "execution_count": null,
      "outputs": [
        {
          "output_type": "stream",
          "name": "stdout",
          "text": [
            "False\n",
            "True\n",
            "True\n",
            "True\n",
            "True\n",
            "True\n"
          ]
        }
      ]
    },
    {
      "cell_type": "markdown",
      "source": [
        "Operator Logika\n",
        "\n",
        "Operator logika digunakan untuk mengkombinasikan statement-statement kondisional.\n",
        "\n",
        "Macam-macam operator logika:\n",
        "\n",
        "and -> lpndisi menjadi benar apabila semua statementnya benar\n",
        "\n",
        "or -> kondisi menjadi benar apabila salah satu statementnya ada yang benar\n",
        "\n",
        "not -> membalik hasil dari benar ke salah dan dari salah ke benar"
      ],
      "metadata": {
        "id": "KdCcVVTAUOyS"
      }
    },
    {
      "cell_type": "markdown",
      "source": [
        "Contoh penggunaan operator logika"
      ],
      "metadata": {
        "id": "Jpgdc_s5VHh-"
      }
    },
    {
      "cell_type": "code",
      "source": [
        "print(True and False)\n",
        "print(False or False)\n",
        "print( not False and True)"
      ],
      "metadata": {
        "colab": {
          "base_uri": "https://localhost:8080/"
        },
        "id": "qsU0nctYQWLI",
        "outputId": "492a079e-9ae1-43b7-e638-a5c87b5f2700"
      },
      "execution_count": null,
      "outputs": [
        {
          "output_type": "stream",
          "name": "stdout",
          "text": [
            "False\n",
            "False\n",
            "True\n"
          ]
        }
      ]
    },
    {
      "cell_type": "markdown",
      "source": [
        "Latihan Operator 4"
      ],
      "metadata": {
        "id": "J9CsPWzxVeMI"
      }
    },
    {
      "cell_type": "code",
      "source": [
        "#Buatlah program penerapan operator pembanding dengan nilai-nilai yang berbeda dari contoh di atas\n",
        "print(True and True)\n",
        "print(True or False)\n",
        "print( not True and True)\n"
      ],
      "metadata": {
        "colab": {
          "base_uri": "https://localhost:8080/"
        },
        "id": "yf2j4f72ViKz",
        "outputId": "2232a1c0-a05a-407e-cd95-88409ca2fb3b"
      },
      "execution_count": null,
      "outputs": [
        {
          "output_type": "stream",
          "name": "stdout",
          "text": [
            "True\n",
            "True\n",
            "False\n"
          ]
        }
      ]
    },
    {
      "cell_type": "markdown",
      "source": [
        "Operator Membership / Keanggotaan\n",
        "\n",
        "Operator keanggotaan digunakan untuk menguji apakah  urutan disaikan dalam suatu objek.\n",
        "\n",
        "Macam-macam operasi keanggotaan:\n",
        "\n",
        "in -> return True ketika nilai tertentu dalam sebuah urutan  ada\n",
        "\n",
        "not in -> return True ketika nilai tertentu dalam sebuah urutan tidak ada"
      ],
      "metadata": {
        "id": "23oHt0GxVzT3"
      }
    },
    {
      "cell_type": "markdown",
      "source": [
        "Contoh penggunaan operator keanggotaan"
      ],
      "metadata": {
        "id": "Tp9kCFb4WbS5"
      }
    },
    {
      "cell_type": "code",
      "source": [
        "a=(1,2,3,4,5,6)\n",
        "b=2\n",
        "print(b in a)\n",
        "\n",
        "print('-'*20)\n",
        "a=(1,2,3,4,5,6)\n",
        "b=7\n",
        "print(b not in a)"
      ],
      "metadata": {
        "colab": {
          "base_uri": "https://localhost:8080/"
        },
        "id": "7zPB_5wiWfMK",
        "outputId": "f3818506-9c7e-4143-8d28-6df4538783b4"
      },
      "execution_count": null,
      "outputs": [
        {
          "output_type": "stream",
          "name": "stdout",
          "text": [
            "True\n",
            "--------------------\n",
            "True\n"
          ]
        }
      ]
    },
    {
      "cell_type": "markdown",
      "source": [
        "Latihan Operator 5"
      ],
      "metadata": {
        "id": "9sUiRfU7Wzx7"
      }
    },
    {
      "cell_type": "code",
      "source": [
        "#Buatlah program penerapan operator pembanding dengan nilai-nilai yang berbeda dari contoh di atas\n",
        "x=(11,13,15,17,19)\n",
        "y=10\n",
        "print(y in x)\n",
        "\n",
        "print('-'*20)\n",
        "x=(11,13,15,17,19)\n",
        "y=13\n",
        "print(y not in x)\n",
        "\n"
      ],
      "metadata": {
        "colab": {
          "base_uri": "https://localhost:8080/"
        },
        "id": "OP11Ybi2WfQT",
        "outputId": "e77bf574-668a-4bfb-cc08-44e2837f8311"
      },
      "execution_count": null,
      "outputs": [
        {
          "output_type": "stream",
          "name": "stdout",
          "text": [
            "False\n",
            "--------------------\n",
            "False\n"
          ]
        }
      ]
    },
    {
      "cell_type": "markdown",
      "source": [
        "**Variabel**\n",
        "\n",
        "variables : lokasi penyimpanan yang dapat digunakan untuk menampung sebuah data atau informasi.\n",
        "\n",
        "Syarat-syarat penamaan variable\n",
        "\n",
        "\n",
        "\n",
        "1.   karakter-karakter yang digunakan untuk penamaan variable adalah alphabet, angka, dan underscore.\n",
        "\n",
        "2.   Karakter pertama variable harus berupa huruf atau garis bawah/underscore dan tidak bisa berupa angka\n",
        "\n",
        "1.   nama sebuah variable tidak bisa menggunakan keyword atau reserved words dari bahasa phyton sepeti for, if dan lainnya\n",
        "2.   Karakter pada nama variabel bersifat sensitif (case-sensitif)\n",
        "\n",
        "\n",
        "\n",
        "\n",
        "\n"
      ],
      "metadata": {
        "id": "TM_QLtDNXnp-"
      }
    },
    {
      "cell_type": "code",
      "source": [
        "#Membuat variabel\n",
        "kalimat = 'ini adalah variabel'\n",
        "bilangan1 = 4\n",
        "bilangan2 = 2.5\n",
        "bilangan3 = True\n",
        "bilangan4 = 1j + 4"
      ],
      "metadata": {
        "id": "W8Oo3ochZxCs"
      },
      "execution_count": null,
      "outputs": []
    },
    {
      "cell_type": "code",
      "source": [
        "#Menampilkan variabel\n",
        "print(kalimat)\n",
        "print(bilangan1)\n",
        "print(bilangan2)\n",
        "print(bilangan3)\n",
        "print(bilangan4)"
      ],
      "metadata": {
        "colab": {
          "base_uri": "https://localhost:8080/"
        },
        "id": "ysrOxSFkaDbI",
        "outputId": "936c5df4-e293-4bf4-a8e3-0efa6440ef5a"
      },
      "execution_count": null,
      "outputs": [
        {
          "output_type": "stream",
          "name": "stdout",
          "text": [
            "ini adalah variabel\n",
            "4\n",
            "2.5\n",
            "True\n",
            "(4+1j)\n"
          ]
        }
      ]
    },
    {
      "cell_type": "markdown",
      "source": [
        "Latihan 1"
      ],
      "metadata": {
        "id": "RkcBPMvHaYBE"
      }
    },
    {
      "cell_type": "code",
      "source": [
        "#Buatlah 5 variabel kalian sendiri dengan 5 macam tipe data lalu tampilkan variabel menggunakan fungsi print\n",
        "a = 'Universitas Ahmad Dahlan'\n",
        "b = 4\n",
        "c = 3.5\n",
        "d = False\n",
        "e = 4j + 3"
      ],
      "metadata": {
        "id": "pb1bNP0wacNR"
      },
      "execution_count": null,
      "outputs": []
    },
    {
      "cell_type": "code",
      "source": [
        "print(a)\n",
        "print(b)\n",
        "print(c)\n",
        "print(d)\n",
        "print(e)"
      ],
      "metadata": {
        "colab": {
          "base_uri": "https://localhost:8080/"
        },
        "id": "VoeHKqsEa4Ph",
        "outputId": "9f39e86c-0351-45df-85ee-d89011f481eb"
      },
      "execution_count": null,
      "outputs": [
        {
          "output_type": "stream",
          "name": "stdout",
          "text": [
            "Universitas Ahmad Dahlan\n",
            "4\n",
            "3.5\n",
            "False\n",
            "(3+4j)\n"
          ]
        }
      ]
    },
    {
      "cell_type": "markdown",
      "source": [
        "**Tipe Data dan Konversi Tipe data**"
      ],
      "metadata": {
        "id": "Tna-ZQ23bBE_"
      }
    },
    {
      "cell_type": "markdown",
      "source": [
        "Tipe Data"
      ],
      "metadata": {
        "id": "37_PyLghbII3"
      }
    },
    {
      "cell_type": "markdown",
      "source": [
        "5 tipe data yaitu\n",
        "\n",
        "1.   integer atau bilangan bulat\n",
        "2.   float atau bilangan desimal\n",
        "\n",
        "1.   string atau kalimat\n",
        "2.   boolean yang terdiri dari true dan false\n",
        "\n",
        "1.  complex yang merupakan bilangan kompleks\n",
        "\n",
        "\n",
        "\n",
        "\n",
        "\n",
        "\n",
        "\n",
        "\n",
        "\n",
        "\n",
        "\n"
      ],
      "metadata": {
        "id": "IU1z3aHRbJ7c"
      }
    },
    {
      "cell_type": "code",
      "source": [
        "#Menampilkan tipe data\n",
        "print(type(kalimat))\n",
        "print(type(bilangan1))\n",
        "print(type(bilangan2))\n",
        "print(type(bilangan3))\n",
        "print(type(bilangan4))"
      ],
      "metadata": {
        "colab": {
          "base_uri": "https://localhost:8080/"
        },
        "id": "d2b1oe1Pblnz",
        "outputId": "6263572e-9479-46e1-dbba-60f49ead917e"
      },
      "execution_count": null,
      "outputs": [
        {
          "output_type": "stream",
          "name": "stdout",
          "text": [
            "<class 'str'>\n",
            "<class 'int'>\n",
            "<class 'float'>\n",
            "<class 'bool'>\n",
            "<class 'complex'>\n"
          ]
        }
      ]
    },
    {
      "cell_type": "markdown",
      "source": [
        "Latihan 2"
      ],
      "metadata": {
        "id": "i2uK_W2Jb2ug"
      }
    },
    {
      "cell_type": "code",
      "source": [
        "# Cek tipe data variabel yang telah kalian buat pada latihan 1\n",
        "print(type(a))\n",
        "print(type(b))\n",
        "print(type(c))\n",
        "print(type(d))\n",
        "print(type(e))"
      ],
      "metadata": {
        "colab": {
          "base_uri": "https://localhost:8080/"
        },
        "id": "dz1wj1Yrb5D7",
        "outputId": "9e850eab-9e63-488f-c1c7-bc42139ccae3"
      },
      "execution_count": null,
      "outputs": [
        {
          "output_type": "stream",
          "name": "stdout",
          "text": [
            "<class 'str'>\n",
            "<class 'int'>\n",
            "<class 'float'>\n",
            "<class 'bool'>\n",
            "<class 'complex'>\n"
          ]
        }
      ]
    },
    {
      "cell_type": "markdown",
      "source": [
        "Konversi tipe data"
      ],
      "metadata": {
        "id": "emjhFhZ6cLcf"
      }
    },
    {
      "cell_type": "code",
      "source": [
        "#Konversi tipe data integer\n",
        "print(int(bilangan2))\n",
        "print(int(bilangan3))\n",
        "\n",
        "#konversi tipe data float\n",
        "print(float(bilangan1))\n",
        "print(float(bilangan3))\n",
        "\n",
        "#konversi tipe data string\n",
        "print(str(bilangan1))\n",
        "print(str(bilangan2))\n",
        "print(str(bilangan3))\n",
        "\n",
        "#konversi tipe data bool\n",
        "print(bool(bilangan1))\n",
        "print(bool(bilangan2))\n",
        "\n",
        "#Konversi tipe data complex\n",
        "print(complex(bilangan1))\n",
        "print(complex(bilangan2))\n",
        "print(complex(bilangan3))"
      ],
      "metadata": {
        "colab": {
          "base_uri": "https://localhost:8080/"
        },
        "id": "Nr_Auj_QcOJI",
        "outputId": "7b4fcfa6-d82c-4472-f373-800cf370df54"
      },
      "execution_count": null,
      "outputs": [
        {
          "output_type": "stream",
          "name": "stdout",
          "text": [
            "2\n",
            "1\n",
            "4.0\n",
            "1.0\n",
            "4\n",
            "2.5\n",
            "True\n",
            "True\n",
            "True\n",
            "(4+0j)\n",
            "(2.5+0j)\n",
            "(1+0j)\n"
          ]
        }
      ]
    },
    {
      "cell_type": "markdown",
      "source": [
        "Latihan 3"
      ],
      "metadata": {
        "id": "C1XChkhEdR6Q"
      }
    },
    {
      "cell_type": "code",
      "source": [
        "#Konversi tipe data yang telah kalian buat menjadi berbagai macam tipe data\n",
        "\n",
        "#Konversi tipe data integer\n",
        "print(int(c))\n",
        "print(int(d))\n",
        "\n",
        "#konversi tipe data float\n",
        "print(float(b))\n",
        "print(float(d))\n",
        "\n",
        "#konversi tipe data string\n",
        "print(str(b))\n",
        "print(str(c))\n",
        "print(str(d))\n",
        "\n",
        "#konversi tipe data bool\n",
        "print(bool(b))\n",
        "print(bool(c))\n",
        "\n",
        "#Konversi tipe data complex\n",
        "print(complex(b))\n",
        "print(complex(c))\n",
        "print(complex(d))"
      ],
      "metadata": {
        "colab": {
          "base_uri": "https://localhost:8080/"
        },
        "id": "jh_QqZcvdTjp",
        "outputId": "c9296bb1-c9d5-4112-abd9-73c70b036915"
      },
      "execution_count": null,
      "outputs": [
        {
          "output_type": "stream",
          "name": "stdout",
          "text": [
            "3\n",
            "0\n",
            "4.0\n",
            "0.0\n",
            "4\n",
            "3.5\n",
            "False\n",
            "True\n",
            "True\n",
            "(4+0j)\n",
            "(3.5+0j)\n",
            "0j\n"
          ]
        }
      ]
    },
    {
      "cell_type": "markdown",
      "source": [
        "**LIST**"
      ],
      "metadata": {
        "id": "NsVaRjbMXO3F"
      }
    },
    {
      "cell_type": "markdown",
      "source": [
        "List adalah jenis kumpulan data terurut (ordered sequence) dan merupakan satu variabel yang sering digunakan pada phyton. Serupa namun tak sama dengan array pada bahasa pemrograman lainnya. Bedanya, elemen list pada phyton tidak harus memiliki tipe data yang sama. Cukup mudah digunakan yaitu dengan menggunakan kurung siku dan elemen yang dipisahkan dengan koma.\n",
        "\n",
        "Setiap dat di dalamnya dapat diakses dengan indeks yang dimulai dari 0."
      ],
      "metadata": {
        "id": "hLETR3D3XoSu"
      }
    },
    {
      "cell_type": "code",
      "source": [
        "#contoh list\n",
        "L1 = [1,4,2,13]\n",
        "\n",
        "print(type(L1))"
      ],
      "metadata": {
        "colab": {
          "base_uri": "https://localhost:8080/"
        },
        "id": "a0LoAHBDXy9f",
        "outputId": "4b6f0402-5701-4cc0-89f4-61364d669228"
      },
      "execution_count": null,
      "outputs": [
        {
          "output_type": "stream",
          "name": "stdout",
          "text": [
            "<class 'list'>\n"
          ]
        }
      ]
    },
    {
      "cell_type": "code",
      "source": [
        "L2 = [\"a\", \"Python\", 3]\n",
        "\n",
        "print(type(L2))"
      ],
      "metadata": {
        "colab": {
          "base_uri": "https://localhost:8080/"
        },
        "id": "sptzwvFBYGj8",
        "outputId": "5986b18e-c944-4acc-c6fd-86b8d95af24e"
      },
      "execution_count": null,
      "outputs": [
        {
          "output_type": "stream",
          "name": "stdout",
          "text": [
            "<class 'list'>\n"
          ]
        }
      ]
    },
    {
      "cell_type": "code",
      "source": [
        "print(L1)\n",
        "print(L2)"
      ],
      "metadata": {
        "colab": {
          "base_uri": "https://localhost:8080/"
        },
        "id": "Hjl2P3rnYTcH",
        "outputId": "127298dc-325c-4a78-84ea-74662bd51d4d"
      },
      "execution_count": null,
      "outputs": [
        {
          "output_type": "stream",
          "name": "stdout",
          "text": [
            "[1, 4, 2, 13]\n",
            "['a', 'Python', 3]\n"
          ]
        }
      ]
    },
    {
      "cell_type": "code",
      "source": [
        "#menampilkan elemen dengan fungsi print\n",
        "warna = [\"biru\",\"merah\",\"kuning\",\"hijau\"]\n",
        "print(warna[2])\n",
        "print(warna[1:3])\n",
        "print(warna[-3])\n"
      ],
      "metadata": {
        "colab": {
          "base_uri": "https://localhost:8080/"
        },
        "id": "JJ5KIlnHZAVG",
        "outputId": "5d44b5da-b07a-4092-f484-21ce94d5f00a"
      },
      "execution_count": null,
      "outputs": [
        {
          "output_type": "stream",
          "name": "stdout",
          "text": [
            "kuning\n",
            "['merah', 'kuning']\n",
            "merah\n"
          ]
        }
      ]
    },
    {
      "cell_type": "markdown",
      "source": [
        "Sifat-sifat list\n"
      ],
      "metadata": {
        "id": "7w5KbdK7ZRjK"
      }
    },
    {
      "cell_type": "code",
      "source": [
        "#Terurut atau ordered\n",
        "print(\"memanggil list L1 dengan indeks urutan :\", L1[0:3])"
      ],
      "metadata": {
        "colab": {
          "base_uri": "https://localhost:8080/"
        },
        "id": "kJ0HWaMnZOMm",
        "outputId": "7278f9e6-e5c3-425f-ca2c-475d9b921b16"
      },
      "execution_count": null,
      "outputs": [
        {
          "output_type": "stream",
          "name": "stdout",
          "text": [
            "memanggil list L1 dengan indeks urutan : [1, 4, 2]\n"
          ]
        }
      ]
    },
    {
      "cell_type": "code",
      "source": [
        "#Bisa diganti atau mutable\n",
        "L1[1]= 2\n",
        "print(L1)"
      ],
      "metadata": {
        "colab": {
          "base_uri": "https://localhost:8080/"
        },
        "id": "GHtBnh-6ZIOE",
        "outputId": "1e021bbf-a95b-46ac-8202-f18b6b4b3eb6"
      },
      "execution_count": null,
      "outputs": [
        {
          "output_type": "stream",
          "name": "stdout",
          "text": [
            "[1, 2, 2, 13]\n"
          ]
        }
      ]
    },
    {
      "cell_type": "code",
      "source": [
        "#Dapat diindeks/slicing\n",
        "L1 = [1, \"dua\", True, 2+3j]\n",
        "print(\"slicing list L1 :\", L1[3])"
      ],
      "metadata": {
        "colab": {
          "base_uri": "https://localhost:8080/"
        },
        "id": "Tt5s6YWVZuHO",
        "outputId": "456597db-8ce0-49ab-8fc5-8888be54321f"
      },
      "execution_count": null,
      "outputs": [
        {
          "output_type": "stream",
          "name": "stdout",
          "text": [
            "slicing list L1 : (2+3j)\n"
          ]
        }
      ]
    },
    {
      "cell_type": "code",
      "source": [
        "#Dapat dijadikan duplikasi\n",
        "L1 = [1, \"dua\", True, 2+3j, 2+3j]\n",
        "print(\"Duplikasi pada list L1:\", L1)"
      ],
      "metadata": {
        "colab": {
          "base_uri": "https://localhost:8080/"
        },
        "id": "C1enej9KZxf2",
        "outputId": "3c1ae6c3-7092-4655-f92c-4a135306781c"
      },
      "execution_count": null,
      "outputs": [
        {
          "output_type": "stream",
          "name": "stdout",
          "text": [
            "Duplikasi pada list L1: [1, 'dua', True, (2+3j), (2+3j)]\n"
          ]
        }
      ]
    },
    {
      "cell_type": "code",
      "source": [
        "#Dapat diijinkan duplikasi\n",
        "L1 = [1, \"Dua\", True, 2+3j, 2+3j]\n",
        "print(\"Duplikasikan pada List L1: \",L1)"
      ],
      "metadata": {
        "colab": {
          "base_uri": "https://localhost:8080/"
        },
        "id": "dGJmvPHyZ6oq",
        "outputId": "4a314f15-ae06-46a8-b892-3eee50cbeddb"
      },
      "execution_count": null,
      "outputs": [
        {
          "output_type": "stream",
          "name": "stdout",
          "text": [
            "Duplikasikan pada List L1:  [1, 'Dua', True, (2+3j), (2+3j)]\n"
          ]
        }
      ]
    },
    {
      "cell_type": "code",
      "source": [
        "#Dapat mengubah data dengan mengganti elemen tertentu\n",
        "L1 = [1, \"Dua\", True, 2+3j]\n",
        "L1[2] = 3\n",
        "print(\"Data setelah diubah: \", L1)"
      ],
      "metadata": {
        "colab": {
          "base_uri": "https://localhost:8080/"
        },
        "id": "rHQO1ZKYa0Gt",
        "outputId": "1823125f-7ca4-487f-c55e-8c68e3c49bdf"
      },
      "execution_count": null,
      "outputs": [
        {
          "output_type": "stream",
          "name": "stdout",
          "text": [
            "Data setelah diubah:  [1, 'Dua', 3, (2+3j)]\n"
          ]
        }
      ]
    },
    {
      "cell_type": "code",
      "source": [
        "#Dapat menambah elemen baru pada data\n",
        "L1 = [1, \"Dua\", True, 2+3j]\n",
        "L1.append(20)\n",
        "print(\"Data setelah ditambahkan elemennya: \", L1)\n",
        "\n"
      ],
      "metadata": {
        "colab": {
          "base_uri": "https://localhost:8080/"
        },
        "id": "Y9mUP-fGbPAy",
        "outputId": "ff9d9172-93de-4108-89db-ed173da34543"
      },
      "execution_count": null,
      "outputs": [
        {
          "output_type": "stream",
          "name": "stdout",
          "text": [
            "Data setelah ditambahkan elemennya:  [1, 'Dua', True, (2+3j), 20]\n"
          ]
        }
      ]
    },
    {
      "cell_type": "code",
      "source": [
        "#Dapat menghapus elemen pada data (remove()) = menghapus berdasarkan nama ojek)\n",
        "L1 = [1, \"Dua\", True, 2+3j]\n",
        "L1.remove(2+3j)\n",
        "print(\"Data setelah dihapus elemennya: \", L1)"
      ],
      "metadata": {
        "colab": {
          "base_uri": "https://localhost:8080/"
        },
        "id": "X42Atn5PbsS_",
        "outputId": "6571cb04-d550-48f2-f347-ff1518bfac48"
      },
      "execution_count": null,
      "outputs": [
        {
          "output_type": "stream",
          "name": "stdout",
          "text": [
            "Data setelah dihapus elemennya:  [1, 'Dua', True]\n"
          ]
        }
      ]
    },
    {
      "cell_type": "code",
      "source": [
        "L1 = [1, \"Dua\", True, 2+3j]\n",
        "L1.extend(\"nanas\")\n",
        "print(L1)"
      ],
      "metadata": {
        "colab": {
          "base_uri": "https://localhost:8080/"
        },
        "id": "kqMJwni-cl-7",
        "outputId": "e76f3648-446d-458e-f75e-2f1cdecb3a2a"
      },
      "execution_count": null,
      "outputs": [
        {
          "output_type": "stream",
          "name": "stdout",
          "text": [
            "[1, 'Dua', True, (2+3j), 'n', 'a', 'n', 'a', 's']\n"
          ]
        }
      ]
    },
    {
      "cell_type": "code",
      "source": [
        "L1 = [1, \"Dua\", True, 2+3j]\n",
        "L1.extend([\"nanas\"])\n",
        "print(L1)"
      ],
      "metadata": {
        "colab": {
          "base_uri": "https://localhost:8080/"
        },
        "id": "-YYPb-owcv_t",
        "outputId": "b3f99613-e29b-4da6-d418-2c0d581f89ac"
      },
      "execution_count": null,
      "outputs": [
        {
          "output_type": "stream",
          "name": "stdout",
          "text": [
            "[1, 'Dua', True, (2+3j), 'nanas']\n"
          ]
        }
      ]
    },
    {
      "cell_type": "code",
      "source": [
        "#Menambah data menggunakanfungsi insert (menambahkan elemen baru di list pada indeks tertentu)\n",
        "L1 = [1, \"Dua\", True, 2+3j]\n",
        "L1.insert(2, 5)\n",
        "print(L1)\n"
      ],
      "metadata": {
        "colab": {
          "base_uri": "https://localhost:8080/"
        },
        "id": "ryGBIBWydLk-",
        "outputId": "3defdf6a-8552-42e6-c90d-31be3a94ca5e"
      },
      "execution_count": null,
      "outputs": [
        {
          "output_type": "stream",
          "name": "stdout",
          "text": [
            "[1, 'Dua', 5, True, (2+3j)]\n"
          ]
        }
      ]
    },
    {
      "cell_type": "code",
      "source": [
        "#Menghapus elemen dari list menggunakan fungsi pop(), mengapus sesuai dengan indeks\n",
        "L1 = [1, \"dua\", True, 2+3j]\n",
        "L1.pop(2)\n",
        "print(L1)"
      ],
      "metadata": {
        "colab": {
          "base_uri": "https://localhost:8080/"
        },
        "id": "rVhVV4iH94cN",
        "outputId": "fb75298e-3bd3-4716-8cb9-40c50647cc56"
      },
      "execution_count": 4,
      "outputs": [
        {
          "output_type": "stream",
          "name": "stdout",
          "text": [
            "[1, 'dua', (2+3j)]\n"
          ]
        }
      ]
    },
    {
      "cell_type": "code",
      "source": [
        "L1 = [1, \"dua\", True, 2+3j]\n",
        "L1.pop()\n",
        "print(L1)"
      ],
      "metadata": {
        "colab": {
          "base_uri": "https://localhost:8080/"
        },
        "id": "3o5a8I989VCk",
        "outputId": "42109dd9-75d7-4c90-efd1-116cb449c8bf"
      },
      "execution_count": 1,
      "outputs": [
        {
          "output_type": "stream",
          "name": "stdout",
          "text": [
            "[1, 'dua', True]\n"
          ]
        }
      ]
    },
    {
      "cell_type": "markdown",
      "source": [
        "**Latihan 1**"
      ],
      "metadata": {
        "id": "63h4NbVo-HEe"
      }
    },
    {
      "cell_type": "code",
      "source": [
        "#Buatlah list kalian sendiri\n",
        "List =[1, 2, 4, 8, 3j+2, True, False, \"Math\"]\n"
      ],
      "metadata": {
        "id": "ksfR0zIY-MFS"
      },
      "execution_count": 5,
      "outputs": []
    },
    {
      "cell_type": "markdown",
      "source": [
        "**Latihan 2**"
      ],
      "metadata": {
        "id": "Ss0kwbU2-z91"
      }
    },
    {
      "cell_type": "code",
      "source": [
        "#Ganti elemen yang ada pada List yang kalian buat\n",
        "List[5] = False\n",
        "print(\"Data setelah diubah: \", List)\n"
      ],
      "metadata": {
        "colab": {
          "base_uri": "https://localhost:8080/"
        },
        "id": "AySP-tdu-Y3V",
        "outputId": "e2d8387a-ab37-4e24-e648-886232e6cf10"
      },
      "execution_count": 6,
      "outputs": [
        {
          "output_type": "stream",
          "name": "stdout",
          "text": [
            "Data setelah diubah:  [1, 2, 4, 8, (2+3j), False, False, 'Math']\n"
          ]
        }
      ]
    },
    {
      "cell_type": "markdown",
      "source": [
        "**Struktur Data Tuple**"
      ],
      "metadata": {
        "id": "8eGY_hdiexbv"
      }
    },
    {
      "cell_type": "markdown",
      "source": [
        "Tuple adalah jenis dari struktur data yang tidak dapat diubah elemennya dan juga tidak bisa ditambahkan atau dihapus elemennya. Umumnya tuple digunakan untuk data yang bersifat sekali tulis, dan dapat dieksekusi lebih cepat. Tuple didefinisikan dengan kurung dan elemen yang dipisahkan dengan koma."
      ],
      "metadata": {
        "id": "_9aGNC9Pe4Lx"
      }
    },
    {
      "cell_type": "code",
      "source": [
        "#Contoh Tuple\n",
        "T1 = (1, \"dua\", True, 1+2j)\n",
        "print(\"ini adalah tuple\", T1)"
      ],
      "metadata": {
        "colab": {
          "base_uri": "https://localhost:8080/"
        },
        "id": "30eMWtywgUoy",
        "outputId": "7fba1d2c-85f0-4684-8ff6-d73a25847cc1"
      },
      "execution_count": 9,
      "outputs": [
        {
          "output_type": "stream",
          "name": "stdout",
          "text": [
            "ini adalah tuple (1, 'dua', True, (1+2j))\n"
          ]
        }
      ]
    },
    {
      "cell_type": "code",
      "source": [
        "T11 = 1, \"dua\", True, 1+2j\n",
        "print(\"Ini adalah tuple\", T11)"
      ],
      "metadata": {
        "colab": {
          "base_uri": "https://localhost:8080/"
        },
        "id": "wy_L_FxBgjjT",
        "outputId": "f0b46548-ff90-4bae-eae6-732305521d98"
      },
      "execution_count": null,
      "outputs": [
        {
          "output_type": "stream",
          "name": "stdout",
          "text": [
            "Ini adalah tuple (1, 'dua', True, (1+2j))\n"
          ]
        }
      ]
    },
    {
      "cell_type": "code",
      "source": [
        "#Menampilkan tipe struktur data\n",
        "type(T1)"
      ],
      "metadata": {
        "colab": {
          "base_uri": "https://localhost:8080/"
        },
        "id": "dqdS3o4ngu-Q",
        "outputId": "daec023b-798a-4ee3-8411-20829c8c5dac"
      },
      "execution_count": null,
      "outputs": [
        {
          "output_type": "execute_result",
          "data": {
            "text/plain": [
              "tuple"
            ]
          },
          "metadata": {},
          "execution_count": 22
        }
      ]
    },
    {
      "cell_type": "code",
      "source": [
        "type(T11)"
      ],
      "metadata": {
        "colab": {
          "base_uri": "https://localhost:8080/"
        },
        "id": "mCOiO9S9g5on",
        "outputId": "1ec6bc6f-7a34-4d52-ff9d-c716ea67c408"
      },
      "execution_count": null,
      "outputs": [
        {
          "output_type": "execute_result",
          "data": {
            "text/plain": [
              "tuple"
            ]
          },
          "metadata": {},
          "execution_count": 23
        }
      ]
    },
    {
      "cell_type": "markdown",
      "source": [
        "**Sifat-sifat Tuple**"
      ],
      "metadata": {
        "id": "VT1MVyCRg93B"
      }
    },
    {
      "cell_type": "code",
      "source": [
        "#Terurut/Ordered\n",
        "T1[0:3]"
      ],
      "metadata": {
        "colab": {
          "base_uri": "https://localhost:8080/"
        },
        "id": "tWSrrkgbhCYI",
        "outputId": "67deff79-b316-471b-f3cc-01ec72fff7ae"
      },
      "execution_count": null,
      "outputs": [
        {
          "output_type": "execute_result",
          "data": {
            "text/plain": [
              "(1, 'dua', True)"
            ]
          },
          "metadata": {},
          "execution_count": 24
        }
      ]
    },
    {
      "cell_type": "code",
      "source": [
        "#Tidak bisa diganti/immutable\n",
        "T1[2] = \"MANUSIA\""
      ],
      "metadata": {
        "colab": {
          "base_uri": "https://localhost:8080/",
          "height": 183
        },
        "id": "Tj2lluMlhJ8S",
        "outputId": "163466e3-1be5-4b72-f312-bbf2ead652c1"
      },
      "execution_count": null,
      "outputs": [
        {
          "output_type": "error",
          "ename": "TypeError",
          "evalue": "ignored",
          "traceback": [
            "\u001b[0;31m---------------------------------------------------------------------------\u001b[0m",
            "\u001b[0;31mTypeError\u001b[0m                                 Traceback (most recent call last)",
            "\u001b[0;32m<ipython-input-25-0c9edd130bf0>\u001b[0m in \u001b[0;36m<cell line: 2>\u001b[0;34m()\u001b[0m\n\u001b[1;32m      1\u001b[0m \u001b[0;31m#Tidak bisa diganti/immutable\u001b[0m\u001b[0;34m\u001b[0m\u001b[0;34m\u001b[0m\u001b[0m\n\u001b[0;32m----> 2\u001b[0;31m \u001b[0mT1\u001b[0m\u001b[0;34m[\u001b[0m\u001b[0;36m2\u001b[0m\u001b[0;34m]\u001b[0m \u001b[0;34m=\u001b[0m \u001b[0;34m\"MANUSIA\"\u001b[0m\u001b[0;34m\u001b[0m\u001b[0;34m\u001b[0m\u001b[0m\n\u001b[0m",
            "\u001b[0;31mTypeError\u001b[0m: 'tuple' object does not support item assignment"
          ]
        }
      ]
    },
    {
      "cell_type": "code",
      "source": [
        "#Dapat diindeks/Slicing\n",
        "print(\"elemen kedua dari tuple T1 adalah: \", T1[1])"
      ],
      "metadata": {
        "colab": {
          "base_uri": "https://localhost:8080/"
        },
        "id": "XUmNGRVFhTg6",
        "outputId": "d563c8e7-3534-4338-d21e-56224c17e9d7"
      },
      "execution_count": null,
      "outputs": [
        {
          "output_type": "stream",
          "name": "stdout",
          "text": [
            "elemen kedua dari tuple T1 adalah:  dua\n"
          ]
        }
      ]
    },
    {
      "cell_type": "code",
      "source": [
        "#Dapat diijinkan duplikasi\n",
        "T2 =(3, 2.4, True, 2.4)\n",
        "T2"
      ],
      "metadata": {
        "colab": {
          "base_uri": "https://localhost:8080/"
        },
        "id": "K05YhP9lh_na",
        "outputId": "2d9d29b1-8b78-4657-adad-0d52ae18aad5"
      },
      "execution_count": 11,
      "outputs": [
        {
          "output_type": "execute_result",
          "data": {
            "text/plain": [
              "(3, 2.4, True, 2.4)"
            ]
          },
          "metadata": {},
          "execution_count": 11
        }
      ]
    },
    {
      "cell_type": "code",
      "source": [
        "#tidak dapat menambahkan elemen baru\n",
        "T1 = (1, \"dua\", True, 1+2j)\n",
        "print(f' tuple\\t: {T1}')"
      ],
      "metadata": {
        "colab": {
          "base_uri": "https://localhost:8080/"
        },
        "id": "va23R2PziNP_",
        "outputId": "b8b0c642-8a3a-4606-e1da-e62f9d1fb510"
      },
      "execution_count": null,
      "outputs": [
        {
          "output_type": "stream",
          "name": "stdout",
          "text": [
            " tuple\t: (1, 'dua', True, (1+2j))\n"
          ]
        }
      ]
    },
    {
      "cell_type": "code",
      "source": [
        "T1.append(10)\n",
        "T1.append(50)\n",
        "print(f'tuple\\t:{T1}')"
      ],
      "metadata": {
        "id": "CTkkoZw_d-aT"
      },
      "execution_count": null,
      "outputs": []
    },
    {
      "cell_type": "code",
      "source": [
        "#Tidak dapat menghapus elemen\n",
        "T1 = (1, \"dua\", True, 1+2j)\n",
        "print(f' tuple\\t: {T1}')"
      ],
      "metadata": {
        "id": "f12_n13u_kbg"
      },
      "execution_count": null,
      "outputs": []
    },
    {
      "cell_type": "markdown",
      "source": [
        "**Menggabungkan Tuple**"
      ],
      "metadata": {
        "id": "7B5jGXHM_0_5"
      }
    },
    {
      "cell_type": "code",
      "source": [
        "#Menggabungkan Tuple\n",
        "T3 = T1 + T2\n",
        "T3"
      ],
      "metadata": {
        "colab": {
          "base_uri": "https://localhost:8080/"
        },
        "id": "9KETZQTa_6R7",
        "outputId": "0759335b-9f8d-4796-e40b-22f3f70364bc"
      },
      "execution_count": 13,
      "outputs": [
        {
          "output_type": "execute_result",
          "data": {
            "text/plain": [
              "(1, 'dua', True, (1+2j), 3, 2.4, True, 2.4)"
            ]
          },
          "metadata": {},
          "execution_count": 13
        }
      ]
    },
    {
      "cell_type": "markdown",
      "source": [
        "**Latihan 1**"
      ],
      "metadata": {
        "id": "TEbeT4nuAU71"
      }
    },
    {
      "cell_type": "code",
      "source": [
        "#Buat tuplemu sendiri\n",
        "Tuple_1 = (1, 2, 3, 4, 5, \"enam\")"
      ],
      "metadata": {
        "id": "fj3Kkawp_zHs"
      },
      "execution_count": 14,
      "outputs": []
    },
    {
      "cell_type": "markdown",
      "source": [
        "**Latihan 2**"
      ],
      "metadata": {
        "id": "3aJdXj8kAm-4"
      }
    },
    {
      "cell_type": "code",
      "source": [
        "#Buat tuple kedua lalu gabungkan 2 tuple yang telah kamu  buat\n",
        "Tuple_2 = (\"tujuh\", 8, 9, 10)\n",
        "Tuple_gabungan = Tuple_1 + Tuple_2\n",
        "Tuple_gabungan"
      ],
      "metadata": {
        "colab": {
          "base_uri": "https://localhost:8080/"
        },
        "id": "B6X4r8d3AlP9",
        "outputId": "82ac1481-c233-413d-b2e1-bd58455e874a"
      },
      "execution_count": 15,
      "outputs": [
        {
          "output_type": "execute_result",
          "data": {
            "text/plain": [
              "(1, 2, 3, 4, 5, 'enam', 'tujuh', 8, 9, 10)"
            ]
          },
          "metadata": {},
          "execution_count": 15
        }
      ]
    }
  ]
}
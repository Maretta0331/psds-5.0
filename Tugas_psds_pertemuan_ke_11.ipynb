{
  "nbformat": 4,
  "nbformat_minor": 0,
  "metadata": {
    "colab": {
      "provenance": []
    },
    "kernelspec": {
      "name": "python3",
      "display_name": "Python 3"
    },
    "language_info": {
      "name": "python"
    }
  },
  "cells": [
    {
      "cell_type": "markdown",
      "source": [
        "**TUGAS PSDS KELAS DASAR PERTEMUAN KE-11**\n",
        "\n",
        "Nama : Maretta Mia Audina\n",
        "\n",
        "NIM : 2200015010"
      ],
      "metadata": {
        "id": "c9UHxdM25-49"
      }
    },
    {
      "cell_type": "markdown",
      "source": [
        "1. Buatah fungsi lambda untuk menghitung menghitung fungsi dari persegi panjang"
      ],
      "metadata": {
        "id": "ykEuRdQY6OcP"
      }
    },
    {
      "cell_type": "markdown",
      "source": [
        "**Luas Persegi Panjang**"
      ],
      "metadata": {
        "id": "SE4vRf6w6eSf"
      }
    },
    {
      "cell_type": "code",
      "execution_count": 4,
      "metadata": {
        "colab": {
          "base_uri": "https://localhost:8080/"
        },
        "id": "fOaMu7KB4ur-",
        "outputId": "de73ded7-7599-4e1f-edc6-f3239915effc"
      },
      "outputs": [
        {
          "output_type": "stream",
          "name": "stdout",
          "text": [
            "<function <lambda> at 0x7f7df852b5b0>\n"
          ]
        }
      ],
      "source": [
        "luas_persegi_panjang = lambda p,l:p*l\n",
        "print(luas_persegi_panjang)"
      ]
    },
    {
      "cell_type": "markdown",
      "source": [
        "misal diberikan panjang = 3 dan lebar = 4"
      ],
      "metadata": {
        "id": "J30oDNfm7J5g"
      }
    },
    {
      "cell_type": "code",
      "source": [
        "luas_persegi_panjang(3,4)"
      ],
      "metadata": {
        "colab": {
          "base_uri": "https://localhost:8080/"
        },
        "id": "kSYA_SGt5Gf_",
        "outputId": "48da9521-54b9-44e3-ab21-6d43fd7311c9"
      },
      "execution_count": 5,
      "outputs": [
        {
          "output_type": "execute_result",
          "data": {
            "text/plain": [
              "12"
            ]
          },
          "metadata": {},
          "execution_count": 5
        }
      ]
    },
    {
      "cell_type": "markdown",
      "source": [
        "**Keliling Persegi Panjang**"
      ],
      "metadata": {
        "id": "zpT3jSte6ju5"
      }
    },
    {
      "cell_type": "code",
      "source": [
        "keliling_persegi_panjang = lambda p,l:2*(p+l)\n",
        "print(keliling_persegi_panjang)"
      ],
      "metadata": {
        "colab": {
          "base_uri": "https://localhost:8080/"
        },
        "id": "tkoKtoI76nLb",
        "outputId": "360bdf69-456b-4772-c31b-3692b34e037f"
      },
      "execution_count": 9,
      "outputs": [
        {
          "output_type": "stream",
          "name": "stdout",
          "text": [
            "<function <lambda> at 0x7f7dde1d3640>\n"
          ]
        }
      ]
    },
    {
      "cell_type": "code",
      "source": [
        "keliling_persegi_panjang(3,4)"
      ],
      "metadata": {
        "colab": {
          "base_uri": "https://localhost:8080/"
        },
        "id": "DYoUoEXO6yGZ",
        "outputId": "4136a616-f61b-4160-ac9f-ae904c41c3d9"
      },
      "execution_count": 10,
      "outputs": [
        {
          "output_type": "execute_result",
          "data": {
            "text/plain": [
              "14"
            ]
          },
          "metadata": {},
          "execution_count": 10
        }
      ]
    },
    {
      "cell_type": "markdown",
      "source": [
        "2. Buatlah fungsi lambda untuk menghitung luas dari segitiga."
      ],
      "metadata": {
        "id": "iUaZ5X0764E6"
      }
    },
    {
      "cell_type": "markdown",
      "source": [
        "**Luas Segitiga**"
      ],
      "metadata": {
        "id": "8i4_nOfB6_kp"
      }
    },
    {
      "cell_type": "code",
      "source": [
        "luas_segitiga = lambda a,t:(1/2)*a*t\n",
        "print(luas_segitigas)"
      ],
      "metadata": {
        "colab": {
          "base_uri": "https://localhost:8080/"
        },
        "id": "wm0xF0e85LNO",
        "outputId": "efbbb75f-2a07-4d76-ce0e-cb59dca8989b"
      },
      "execution_count": 7,
      "outputs": [
        {
          "output_type": "stream",
          "name": "stdout",
          "text": [
            "<function <lambda> at 0x7f7dde1d3be0>\n"
          ]
        }
      ]
    },
    {
      "cell_type": "markdown",
      "source": [
        "misal dberikan alas = 10 dan tinggi = 20"
      ],
      "metadata": {
        "id": "mHIFZ7gn7TUm"
      }
    },
    {
      "cell_type": "code",
      "source": [
        "luas_segitiga(10,20)"
      ],
      "metadata": {
        "colab": {
          "base_uri": "https://localhost:8080/"
        },
        "id": "OXPBBMNb52mi",
        "outputId": "bc6ff789-24cf-4136-c650-44e0a21bc563"
      },
      "execution_count": 8,
      "outputs": [
        {
          "output_type": "execute_result",
          "data": {
            "text/plain": [
              "100.0"
            ]
          },
          "metadata": {},
          "execution_count": 8
        }
      ]
    }
  ]
}
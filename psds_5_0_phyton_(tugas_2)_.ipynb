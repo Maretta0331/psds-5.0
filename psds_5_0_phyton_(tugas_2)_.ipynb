{
  "nbformat": 4,
  "nbformat_minor": 0,
  "metadata": {
    "colab": {
      "provenance": []
    },
    "kernelspec": {
      "name": "python3",
      "display_name": "Python 3"
    },
    "language_info": {
      "name": "python"
    }
  },
  "cells": [
    {
      "cell_type": "markdown",
      "source": [
        "Pengenalan Phyton\n",
        "\n",
        "Phyton adalah bahasa pemrograman tingkat tinggi dengan dynamic semantics, bersifat object, oriented, dan interpretatif. Bahasa pemrograman ini fokus dikembangkan pada keterbacaan bahasa pemrograman.\n",
        "\n",
        "\n",
        "\n",
        "1.   **Bahasa Pemrograman Tingkat Tinggi(High Level Programming)** Artinya sintaks kode lebih mudah ditafsirkan oleh manusia\n",
        "2.   **Interpretatif** Ini artinya bahasa ini memerlukan interpeter atau penerjemah. Ini memungkinkan kita untuk menggunakan bahasa yang lebih mudah kita pahami.\n",
        "\n",
        "1.   **Object Oriented** Ini berarti bahwa bahasa  pemrograman ini berorientasi kepada objek. Hal inimembuat phyton lebih mudah untuk dikembangkan.\n",
        "2.   **Dynamic Semantic** Python secara otomatis akan menyesuaikan tipe dari suatu variable berdasarkan inputnya\n",
        "\n",
        "\n",
        "\n",
        "\n"
      ],
      "metadata": {
        "id": "CrSERuFT1j2v"
      }
    },
    {
      "cell_type": "markdown",
      "source": [
        "Mengapa Phyton?\n",
        "\n",
        "\n",
        "\n",
        "1.   Mudah dipahami\n",
        "2.   Grafis & Open Source\n",
        "\n",
        "1.   Dinamis\n",
        "2.   Memliki Library Terlengkap untuk Data Sains\n",
        "\n",
        "\n",
        "\n"
      ],
      "metadata": {
        "id": "VIYp5NLW4ZXN"
      }
    },
    {
      "cell_type": "markdown",
      "source": [
        "Struktur Program Pada Phyton\n",
        "\n",
        "Phyton pada umumnya terdiri atas:\n",
        "\n",
        "\n",
        "1.   **Statment**\n",
        "\n",
        "\n"
      ],
      "metadata": {
        "id": "RF8k-INM47hk"
      }
    },
    {
      "cell_type": "code",
      "source": [
        "print(\"belajar phyton menyenangkan\")\n",
        "print(\"halo dunia\")"
      ],
      "metadata": {
        "colab": {
          "base_uri": "https://localhost:8080/"
        },
        "id": "TcJVKfCC5T4r",
        "outputId": "6693bfe0-8b18-4d6b-9417-ef9aaeb5122a"
      },
      "execution_count": null,
      "outputs": [
        {
          "output_type": "stream",
          "name": "stdout",
          "text": [
            "belajar phyton menyenangkan\n",
            "halo dunia\n"
          ]
        }
      ]
    },
    {
      "cell_type": "markdown",
      "source": [
        "\n",
        "2.   **Variables**\n",
        "\n"
      ],
      "metadata": {
        "id": "X4K3B9A55eLD"
      }
    },
    {
      "cell_type": "code",
      "source": [
        "bilangan1 = 5\n",
        "bilangan2 = 10\n",
        "kalimat =\"Pejuang Data 3\""
      ],
      "metadata": {
        "id": "Pw_hWMi13UWt"
      },
      "execution_count": null,
      "outputs": []
    },
    {
      "cell_type": "markdown",
      "source": [
        "\n",
        "\n",
        "3.   **Literals** : Simbo;-simbol yang dapat kita gunakan untuk mengisi suatu variable.\n",
        "\n",
        "\n"
      ],
      "metadata": {
        "id": "zi5rA-SP52l9"
      }
    },
    {
      "cell_type": "markdown",
      "source": [
        "\n",
        "\n",
        "4.   **Operators** :Simbol- simbol yang dapat digunakan untuk mengubah nilai dari satu variable  dengan melibatkan satu atau lebh variable dan literal\n",
        "\n",
        "\n"
      ],
      "metadata": {
        "id": "AQkH2XTs6FUI"
      }
    },
    {
      "cell_type": "code",
      "execution_count": null,
      "metadata": {
        "colab": {
          "base_uri": "https://localhost:8080/"
        },
        "id": "_T9gxlCn1bql",
        "outputId": "e0c00074-91ba-450c-8dfb-34b5cff3ca95"
      },
      "outputs": [
        {
          "output_type": "execute_result",
          "data": {
            "text/plain": [
              "15"
            ]
          },
          "metadata": {},
          "execution_count": 3
        }
      ],
      "source": [
        "bilangan1 + bilangan2"
      ]
    },
    {
      "cell_type": "markdown",
      "source": [
        "\n",
        "\n",
        "5.   **Reserved Word** : Kumpulan kata-kata yang memiliki makna khusus dalam bahasa pemrograman Phython. Kata false, return, dan for merupakan contoh dari reserved words.\n",
        "\n"
      ],
      "metadata": {
        "id": "nMCTxIqr6cA6"
      }
    },
    {
      "cell_type": "markdown",
      "source": [
        "\n",
        "\n",
        "6.   **Whitespace** : Pada bahasa phyton, spas dan tab memiliki makna khusus untuk menandai serangkaian blok dalam kode phyton.\n",
        "\n"
      ],
      "metadata": {
        "id": "g88fzCb16zWy"
      }
    },
    {
      "cell_type": "markdown",
      "source": [
        "\n",
        "\n",
        "7.   **Comments** : Comments merupakan sekumpulan teks yang dituliskan di dalam sebuah program yang tidak akan mempengaruhi hasil dari sebuah pemrograman.\n",
        "\n",
        "    Terdapat dua jenis comments di dalam phyton, yaitu:\n",
        "\n",
        "\n",
        "*   **Single line comment** (comments dalam satu baris) seperti contoh berikut\n",
        "\n",
        "\n",
        "\n",
        "\n",
        "\n",
        "\n",
        "\n",
        "\n",
        "\n",
        "\n",
        "\n",
        "\n",
        "\n",
        "\n",
        "\n",
        "\n",
        "\n",
        "\n"
      ],
      "metadata": {
        "id": "xFfAFY6M7HeC"
      }
    },
    {
      "cell_type": "code",
      "source": [
        "# Ini adalah comment\n",
        "print(\"belajar phyton\")"
      ],
      "metadata": {
        "colab": {
          "base_uri": "https://localhost:8080/"
        },
        "id": "r9G-gfYR8OBK",
        "outputId": "b421e8cf-ef09-4fa6-9513-751c97611e87"
      },
      "execution_count": null,
      "outputs": [
        {
          "output_type": "stream",
          "name": "stdout",
          "text": [
            "belajar phyton\n"
          ]
        }
      ]
    },
    {
      "cell_type": "markdown",
      "source": [
        "\n",
        "\n",
        "*   **multi line comment** (commentsa dalam beberapa baris) yang dapat dilakukan seperti pada contoh berikut :\n",
        "\n"
      ],
      "metadata": {
        "id": "hBqJiAWS8YQp"
      }
    },
    {
      "cell_type": "code",
      "source": [
        "'''\n",
        "Ini adalah komentar panjang\n",
        "Bisa digunakan untuk memberikan penjelasan\n",
        "panjang pada sell kode phyton,\n",
        "Misal dokumentasi program, spesifikasi\n",
        "input, output atau lainnya\n",
        "'''\n",
        "\n",
        "print(\"belajar phyton menyenangkan\")"
      ],
      "metadata": {
        "colab": {
          "base_uri": "https://localhost:8080/"
        },
        "id": "nXYjfF4o8qA5",
        "outputId": "78c10fef-c0d1-4717-e69c-c0a3a05aa145"
      },
      "execution_count": null,
      "outputs": [
        {
          "output_type": "stream",
          "name": "stdout",
          "text": [
            "belajar phyton menyenangkan\n"
          ]
        }
      ]
    },
    {
      "cell_type": "markdown",
      "source": [
        "**OPERATOR**\n",
        "\n",
        "Operator simbol-simbol yang dapat digunakan untuk mengubaah nilai dari satu variabel dengan melibatkan satu atau lebih variabel dan literal.\n",
        "\n",
        "Tipe-tipe operator :\n",
        "\n",
        "\n",
        "1.   Operator Aritmatika\n",
        "2.   Operator Assignment\n",
        "\n",
        "1.   Operator pembanding\n",
        "2.   Operator Logika\n",
        "\n",
        "1.   Operator Membership\n",
        "\n",
        "\n",
        "\n",
        "\n",
        "\n",
        "\n"
      ],
      "metadata": {
        "id": "y9nWVJ2rCY2_"
      }
    },
    {
      "cell_type": "markdown",
      "source": [
        "**OPERATOR ARITMATIKA**\n",
        "\n",
        "Operator Aritmatika digunakan untuk melakukan operasi matematika yang umum.\n",
        "\n",
        "Macam-macam operator aritmatika, yaitu:\n",
        "\n",
        "+ : Penjumlahan\n",
        "- : Pengurangan\n",
        "* : Perkalian\n",
        "/ : Pembagian\n",
        "% : Modulus\n",
        "** : Perpangkatan\n",
        "// : Pembagian dengan hasil pembulatan flooring\n",
        "\n",
        "\n",
        "\n"
      ],
      "metadata": {
        "id": "DiJp_rb8DbCc"
      }
    },
    {
      "cell_type": "markdown",
      "source": [
        "Contoh Penggunaan Operator Aritmatika"
      ],
      "metadata": {
        "id": "1ruOnyYoEw-u"
      }
    },
    {
      "cell_type": "code",
      "source": [
        "#Penjumlahan\n",
        "print('Penjumlahan')\n",
        "print('-'*20)\n",
        "print(2+2)\n",
        "\n",
        "#Pengurangan\n",
        "print('Pengurangan')\n",
        "print('-'*20)\n",
        "print(2-3)\n",
        "\n",
        "#Perkalian\n",
        "print('Perkalian')\n",
        "print(2*3)\n",
        "\n",
        "#Pembagian\n",
        "print('Pembagian')\n",
        "print('-'*20)\n",
        "print(2/3)\n",
        "\n",
        "#Modulus\n",
        "print('Modulus')\n",
        "print('-'*20)\n",
        "print(3%2)\n",
        "\n",
        "#Perpangkatan\n",
        "print('Perpangkatan')\n",
        "print('-'*20)\n",
        "print(2**3)\n",
        "\n",
        "#Pembagian dengan hasil pembulatan flooring\n",
        "print('pembagian pe,bulatan flooring')\n",
        "print('-'*20)\n",
        "print(3//2)"
      ],
      "metadata": {
        "colab": {
          "base_uri": "https://localhost:8080/"
        },
        "id": "X5atmBYaE1xx",
        "outputId": "1d19c560-037d-4086-eee2-db79f3176ab0"
      },
      "execution_count": null,
      "outputs": [
        {
          "output_type": "stream",
          "name": "stdout",
          "text": [
            "Penjumlahan\n",
            "--------------------\n",
            "4\n",
            "Pengurangan\n",
            "--------------------\n",
            "-1\n",
            "Perkalian\n",
            "6\n",
            "Pembagian\n",
            "--------------------\n",
            "0.6666666666666666\n",
            "Modulus\n",
            "--------------------\n",
            "1\n",
            "Perpangkatan\n",
            "--------------------\n",
            "8\n",
            "pembagian pe,bulatan flooring\n",
            "--------------------\n",
            "1\n"
          ]
        }
      ]
    },
    {
      "cell_type": "markdown",
      "source": [
        "**Latihan Operator 1**"
      ],
      "metadata": {
        "id": "3BVaABwXFaet"
      }
    },
    {
      "cell_type": "code",
      "source": [
        "#Buatlah Program penerapan operator Aritmatika dengan nilai-nilai yang berbeda dari contoh di atas."
      ],
      "metadata": {
        "id": "7D0KCKWwFha4"
      },
      "execution_count": null,
      "outputs": []
    },
    {
      "cell_type": "code",
      "source": [
        "#Penjumlahan\n",
        "print('Penjumlahan')\n",
        "print('5+5 =',5+5)\n",
        "\n",
        "#Pengurangan\n",
        "print('Pengurangan')\n",
        "print('5-5 =',5-5)\n",
        "\n",
        "#Perkalian\n",
        "print('Perkalian')\n",
        "print('5*5 =',5*5)\n",
        "\n",
        "#Pembagian\n",
        "print('Pembagian')\n",
        "print('5/5 =',5/5)\n",
        "\n",
        "#Modulus\n",
        "print('Modulus')\n",
        "print('5%5 =',5%5)\n",
        "\n",
        "#Perpangkatan\n",
        "print('Perpangkatan')\n",
        "print('5**5 =',5**5)\n",
        "\n",
        "#Pembagian dengan hasil pembulatan flooring\n",
        "print('Pembagian pembulatan floring')\n",
        "print('5//2 =',5//2)"
      ],
      "metadata": {
        "colab": {
          "base_uri": "https://localhost:8080/"
        },
        "id": "JIQeSULjFtES",
        "outputId": "e5dc56cf-4256-46ac-d918-842aa24f9187"
      },
      "execution_count": null,
      "outputs": [
        {
          "output_type": "stream",
          "name": "stdout",
          "text": [
            "Penjumlahan\n",
            "5+5 = 10\n",
            "Pengurangan\n",
            "5-5 = 0\n",
            "Perkalian\n",
            "5*5 = 25\n",
            "Pembagian\n",
            "5/5 = 1.0\n",
            "Modulus\n",
            "5%5 = 0\n",
            "Perpangkatan\n",
            "5**5 = 3125\n",
            "Pembagian pembulatan floring\n",
            "5//2 = 2\n"
          ]
        }
      ]
    },
    {
      "cell_type": "markdown",
      "source": [
        "**Operator Asignment**\n",
        "\n",
        "Operator Assignment digunakan untuk menyimpan nilai menjadi suatu variabel.\n",
        "\n",
        "= : Contohnya x = 5-> x = 5\n",
        "\n",
        "+= : Contohnya x = x + 5 -> x += 5\n",
        "\n",
        "-= :Contohnya x = x - 5 -> x -= 5\n",
        "\n",
        "*= : Contohnya x = x * 5 -> x *= 5\n",
        "\n",
        "/= : Contohnya x = x / 5 -> x /= 5\n",
        "\n",
        "%= : Contohnya x = x % 5 -> x %= 5\n",
        "\n",
        "//= : Contohnya x = x // 5 -> x // 4\n",
        "\n",
        "**= : Contohnya x = x * * 5 -> x * *=5\n"
      ],
      "metadata": {
        "id": "ymx1XOroH8Fq"
      }
    },
    {
      "cell_type": "markdown",
      "source": [
        "Contoh Penggunaan Operator Assignment"
      ],
      "metadata": {
        "id": "wv2rqeopKH0K"
      }
    },
    {
      "cell_type": "code",
      "source": [
        "#Penjumlahan\n",
        "print('Penjumlahan')\n",
        "x=5\n",
        "x=x+5\n",
        "print(x)\n",
        "x=5\n",
        "x+=5\n",
        "print(x)\n",
        "print('-'*20)\n",
        "\n",
        "#Pengurangan\n",
        "print('Pengurangan')\n",
        "x=5\n",
        "x=x-5\n",
        "print(x)\n",
        "x=5\n",
        "x-=3\n",
        "print(x)\n",
        "print('-'*20)\n",
        "\n",
        "#Perkalian\n",
        "print('perkalian')\n",
        "x=5\n",
        "x=x*5\n",
        "print(x)\n",
        "x=5\n",
        "x*=3\n",
        "print(x)\n",
        "print('-'*20)\n",
        "\n",
        "#Pembagian\n",
        "print('Pembagian')\n",
        "x=5\n",
        "x=x/5\n",
        "print(x)\n",
        "x=5\n",
        "x/=3\n",
        "print(x)\n",
        "print('-'*20)\n",
        "\n",
        "#Modulus\n",
        "print('Modulus')\n",
        "x=5\n",
        "x=x%5\n",
        "print(x)\n",
        "x=5\n",
        "x%=3\n",
        "print(x)\n",
        "print('-'*20)\n",
        "\n",
        "#Pembagian Flooring\n",
        "print('Pembagian Flooring')\n",
        "x=5\n",
        "x=x//5\n",
        "print(x)\n",
        "x=5\n",
        "x//=3\n",
        "print(x)\n",
        "print('-'*20)\n",
        "\n",
        "#Perpangkatan\n",
        "print('perpangkatan')\n",
        "x=5\n",
        "x=x**5\n",
        "print(x)\n",
        "x=5\n",
        "x**=3\n",
        "print(x)\n",
        "print('-'*20)"
      ],
      "metadata": {
        "colab": {
          "base_uri": "https://localhost:8080/"
        },
        "id": "j93OSTf5KOvJ",
        "outputId": "2668b542-7cfc-411c-9b2b-6adb52e475bb"
      },
      "execution_count": null,
      "outputs": [
        {
          "output_type": "stream",
          "name": "stdout",
          "text": [
            "Penjumlahan\n",
            "10\n",
            "10\n",
            "--------------------\n",
            "Pengurangan\n",
            "0\n",
            "2\n",
            "--------------------\n",
            "perkalian\n",
            "25\n",
            "15\n",
            "--------------------\n",
            "Pembagian\n",
            "1.0\n",
            "1.6666666666666667\n",
            "--------------------\n",
            "Modulus\n",
            "0\n",
            "2\n",
            "--------------------\n",
            "Pembagian Flooring\n",
            "1\n",
            "1\n",
            "--------------------\n",
            "perpangkatan\n",
            "3125\n",
            "125\n",
            "--------------------\n"
          ]
        }
      ]
    },
    {
      "cell_type": "markdown",
      "source": [
        "Latihan Operator 2"
      ],
      "metadata": {
        "id": "butXQQjAQJuj"
      }
    },
    {
      "cell_type": "code",
      "source": [
        "#Buatlah program penerapan operator assignment dengan nilai nilai yang berbeda dari contoh diatas\n",
        "\n",
        "#Penjumlahan\n",
        "print('Penjumlahan')\n",
        "x=10\n",
        "x=x+10\n",
        "print('10+10=',x)\n",
        "x=10\n",
        "x+=5\n",
        "print('10+5',x)\n",
        "print('-'*20)\n",
        "\n",
        "#Pengurangan\n",
        "print('Pengurangan')\n",
        "x=10\n",
        "x=x-10\n",
        "print('10-10=',x)\n",
        "x=10\n",
        "x-=5\n",
        "print('10-5=',x)\n",
        "print('-'*20)\n",
        "\n",
        "#Perkalian\n",
        "print('perkalian')\n",
        "x=10\n",
        "x=x*10\n",
        "print('10*10=',x)\n",
        "x=10\n",
        "x*=5\n",
        "print('10*5=',x)\n",
        "print('-'*20)\n",
        "\n",
        "#Pembagian\n",
        "print('Pembagian')\n",
        "x=10\n",
        "x=x/10\n",
        "print('10/10',x)\n",
        "x=10\n",
        "x/=5\n",
        "print('10/5=',x)\n",
        "print('-'*20)\n",
        "\n",
        "#Modulus\n",
        "print('Modulus')\n",
        "x=10\n",
        "x=x%10\n",
        "print('10%10=',x)\n",
        "x=10\n",
        "x%=4\n",
        "print('10%4=',x)\n",
        "print('-'*20)\n",
        "\n",
        "#Pembagian Flooring\n",
        "print('Pembagian Flooring')\n",
        "x=10\n",
        "x=x//10\n",
        "print('10//10=',x)\n",
        "x=10\n",
        "x//=4\n",
        "print('10//4=',x)\n",
        "print('-'*20)\n",
        "\n",
        "#Perpangkatan\n",
        "print('perpangkatan')\n",
        "x=10\n",
        "x=x**10\n",
        "print('10**10=',x)\n",
        "x=10\n",
        "x**=4\n",
        "print('10**4=',x)\n",
        "print('-'*20)"
      ],
      "metadata": {
        "colab": {
          "base_uri": "https://localhost:8080/"
        },
        "id": "QKkAbcmlFtN1",
        "outputId": "95f08439-6a12-42ca-e573-edca573a0d2d"
      },
      "execution_count": null,
      "outputs": [
        {
          "output_type": "stream",
          "name": "stdout",
          "text": [
            "Penjumlahan\n",
            "10+10= 20\n",
            "10+5 15\n",
            "--------------------\n",
            "Pengurangan\n",
            "10-10= 0\n",
            "10-5= 5\n",
            "--------------------\n",
            "perkalian\n",
            "10*10= 100\n",
            "10*5= 50\n",
            "--------------------\n",
            "Pembagian\n",
            "10/10 1.0\n",
            "10/5= 2.0\n",
            "--------------------\n",
            "Modulus\n",
            "10%10= 0\n",
            "10%4= 2\n",
            "--------------------\n",
            "Pembagian Flooring\n",
            "10//10= 1\n",
            "10//4= 2\n",
            "--------------------\n",
            "perpangkatan\n",
            "10**10= 10000000000\n",
            "10**4= 10000\n",
            "--------------------\n"
          ]
        }
      ]
    },
    {
      "cell_type": "markdown",
      "source": [
        "Operator Pembanding\n",
        "\n",
        "Operator pembanding digunakan untuk membandingkan 2 nilai atau variabel.\n",
        "\n",
        "Macam-macam operatir pembanding:\n",
        "\n",
        "== -> sama dengan\n",
        "\n",
        "!= -> tidak sama dengan\n",
        "\n",
        "> -> lebih dari\n",
        "\n",
        "< -> kurang dari\n",
        "\n",
        "\n",
        "\n",
        "\n"
      ],
      "metadata": {
        "id": "bVYHYoeESwLb"
      }
    },
    {
      "cell_type": "markdown",
      "source": [
        "Contoh penggunaan operator pembanding\n"
      ],
      "metadata": {
        "id": "6Ca8Q4WuTdJE"
      }
    },
    {
      "cell_type": "code",
      "source": [
        "print(2==2)\n",
        "print(2!=2)\n",
        "print(2>2)\n",
        "print(2<2)\n",
        "print(2>=2)\n",
        "print(2<=2)"
      ],
      "metadata": {
        "colab": {
          "base_uri": "https://localhost:8080/"
        },
        "id": "wif5T-zTTio4",
        "outputId": "bc7cb71e-1e15-4e39-fba4-8e8e826761cf"
      },
      "execution_count": null,
      "outputs": [
        {
          "output_type": "stream",
          "name": "stdout",
          "text": [
            "True\n",
            "False\n",
            "False\n",
            "False\n",
            "True\n",
            "True\n"
          ]
        }
      ]
    },
    {
      "cell_type": "markdown",
      "source": [
        "Latihan Operator 3"
      ],
      "metadata": {
        "id": "ZzFnQuBnTywq"
      }
    },
    {
      "cell_type": "code",
      "source": [
        "#Buatlah program penerapan operator pembanding dengan nilai-nilai yang berbeda dari contoh di atas\n",
        "print(10==3)\n",
        "print(32!=23)\n",
        "print(23>9)\n",
        "print(1<2)\n",
        "print(3>=3)\n",
        "print(10<=11)"
      ],
      "metadata": {
        "colab": {
          "base_uri": "https://localhost:8080/"
        },
        "id": "jhxm1iEXTxk4",
        "outputId": "7f5b5f93-9c28-41b9-fcbe-e1f442716393"
      },
      "execution_count": null,
      "outputs": [
        {
          "output_type": "stream",
          "name": "stdout",
          "text": [
            "False\n",
            "True\n",
            "True\n",
            "True\n",
            "True\n",
            "True\n"
          ]
        }
      ]
    },
    {
      "cell_type": "markdown",
      "source": [
        "Operator Logika\n",
        "\n",
        "Operator logika digunakan untuk mengkombinasikan statement-statement kondisional.\n",
        "\n",
        "Macam-macam operator logika:\n",
        "\n",
        "and -> lpndisi menjadi benar apabila semua statementnya benar\n",
        "\n",
        "or -> kondisi menjadi benar apabila salah satu statementnya ada yang benar\n",
        "\n",
        "not -> membalik hasil dari benar ke salah dan dari salah ke benar"
      ],
      "metadata": {
        "id": "KdCcVVTAUOyS"
      }
    },
    {
      "cell_type": "markdown",
      "source": [
        "Contoh penggunaan operator logika"
      ],
      "metadata": {
        "id": "Jpgdc_s5VHh-"
      }
    },
    {
      "cell_type": "code",
      "source": [
        "print(True and False)\n",
        "print(False or False)\n",
        "print( not False and True)"
      ],
      "metadata": {
        "colab": {
          "base_uri": "https://localhost:8080/"
        },
        "id": "qsU0nctYQWLI",
        "outputId": "492a079e-9ae1-43b7-e638-a5c87b5f2700"
      },
      "execution_count": null,
      "outputs": [
        {
          "output_type": "stream",
          "name": "stdout",
          "text": [
            "False\n",
            "False\n",
            "True\n"
          ]
        }
      ]
    },
    {
      "cell_type": "markdown",
      "source": [
        "Latihan Operator 4"
      ],
      "metadata": {
        "id": "J9CsPWzxVeMI"
      }
    },
    {
      "cell_type": "code",
      "source": [
        "#Buatlah program penerapan operator pembanding dengan nilai-nilai yang berbeda dari contoh di atas\n",
        "print(True and True)\n",
        "print(True or False)\n",
        "print( not True and True)\n"
      ],
      "metadata": {
        "colab": {
          "base_uri": "https://localhost:8080/"
        },
        "id": "yf2j4f72ViKz",
        "outputId": "2232a1c0-a05a-407e-cd95-88409ca2fb3b"
      },
      "execution_count": null,
      "outputs": [
        {
          "output_type": "stream",
          "name": "stdout",
          "text": [
            "True\n",
            "True\n",
            "False\n"
          ]
        }
      ]
    },
    {
      "cell_type": "markdown",
      "source": [
        "Operator Membership / Keanggotaan\n",
        "\n",
        "Operator keanggotaan digunakan untuk menguji apakah  urutan disaikan dalam suatu objek.\n",
        "\n",
        "Macam-macam operasi keanggotaan:\n",
        "\n",
        "in -> return True ketika nilai tertentu dalam sebuah urutan  ada\n",
        "\n",
        "not in -> return True ketika nilai tertentu dalam sebuah urutan tidak ada"
      ],
      "metadata": {
        "id": "23oHt0GxVzT3"
      }
    },
    {
      "cell_type": "markdown",
      "source": [
        "Contoh penggunaan operator keanggotaan"
      ],
      "metadata": {
        "id": "Tp9kCFb4WbS5"
      }
    },
    {
      "cell_type": "code",
      "source": [
        "a=(1,2,3,4,5,6)\n",
        "b=2\n",
        "print(b in a)\n",
        "\n",
        "print('-'*20)\n",
        "a=(1,2,3,4,5,6)\n",
        "b=7\n",
        "print(b not in a)"
      ],
      "metadata": {
        "colab": {
          "base_uri": "https://localhost:8080/"
        },
        "id": "7zPB_5wiWfMK",
        "outputId": "f3818506-9c7e-4143-8d28-6df4538783b4"
      },
      "execution_count": null,
      "outputs": [
        {
          "output_type": "stream",
          "name": "stdout",
          "text": [
            "True\n",
            "--------------------\n",
            "True\n"
          ]
        }
      ]
    },
    {
      "cell_type": "markdown",
      "source": [
        "Latihan Operator 5"
      ],
      "metadata": {
        "id": "9sUiRfU7Wzx7"
      }
    },
    {
      "cell_type": "code",
      "source": [
        "#Buatlah program penerapan operator pembanding dengan nilai-nilai yang berbeda dari contoh di atas\n",
        "x=(11,13,15,17,19)\n",
        "y=10\n",
        "print(y in x)\n",
        "\n",
        "print('-'*20)\n",
        "x=(11,13,15,17,19)\n",
        "y=13\n",
        "print(y not in x)\n",
        "\n"
      ],
      "metadata": {
        "colab": {
          "base_uri": "https://localhost:8080/"
        },
        "id": "OP11Ybi2WfQT",
        "outputId": "e77bf574-668a-4bfb-cc08-44e2837f8311"
      },
      "execution_count": null,
      "outputs": [
        {
          "output_type": "stream",
          "name": "stdout",
          "text": [
            "False\n",
            "--------------------\n",
            "False\n"
          ]
        }
      ]
    },
    {
      "cell_type": "markdown",
      "source": [
        "**Variabel**\n",
        "\n",
        "variables : lokasi penyimpanan yang dapat digunakan untuk menampung sebuah data atau informasi.\n",
        "\n",
        "Syarat-syarat penamaan variable\n",
        "\n",
        "\n",
        "\n",
        "1.   karakter-karakter yang digunakan untuk penamaan variable adalah alphabet, angka, dan underscore.\n",
        "\n",
        "2.   Karakter pertama variable harus berupa huruf atau garis bawah/underscore dan tidak bisa berupa angka\n",
        "\n",
        "1.   nama sebuah variable tidak bisa menggunakan keyword atau reserved words dari bahasa phyton sepeti for, if dan lainnya\n",
        "2.   Karakter pada nama variabel bersifat sensitif (case-sensitif)\n",
        "\n",
        "\n",
        "\n",
        "\n",
        "\n"
      ],
      "metadata": {
        "id": "TM_QLtDNXnp-"
      }
    },
    {
      "cell_type": "code",
      "source": [
        "#Membuat variabel\n",
        "kalimat = 'ini adalah variabel'\n",
        "bilangan1 = 4\n",
        "bilangan2 = 2.5\n",
        "bilangan3 = True\n",
        "bilangan4 = 1j + 4"
      ],
      "metadata": {
        "id": "W8Oo3ochZxCs"
      },
      "execution_count": null,
      "outputs": []
    },
    {
      "cell_type": "code",
      "source": [
        "#Menampilkan variabel\n",
        "print(kalimat)\n",
        "print(bilangan1)\n",
        "print(bilangan2)\n",
        "print(bilangan3)\n",
        "print(bilangan4)"
      ],
      "metadata": {
        "colab": {
          "base_uri": "https://localhost:8080/"
        },
        "id": "ysrOxSFkaDbI",
        "outputId": "936c5df4-e293-4bf4-a8e3-0efa6440ef5a"
      },
      "execution_count": null,
      "outputs": [
        {
          "output_type": "stream",
          "name": "stdout",
          "text": [
            "ini adalah variabel\n",
            "4\n",
            "2.5\n",
            "True\n",
            "(4+1j)\n"
          ]
        }
      ]
    },
    {
      "cell_type": "markdown",
      "source": [
        "Latihan 1"
      ],
      "metadata": {
        "id": "RkcBPMvHaYBE"
      }
    },
    {
      "cell_type": "code",
      "source": [
        "#Buatlah 5 variabel kalian sendiri dengan 5 macam tipe data lalu tampilkan variabel menggunakan fungsi print\n",
        "a = 'Universitas Ahmad Dahlan'\n",
        "b = 4\n",
        "c = 3.5\n",
        "d = False\n",
        "e = 4j + 3"
      ],
      "metadata": {
        "id": "pb1bNP0wacNR"
      },
      "execution_count": null,
      "outputs": []
    },
    {
      "cell_type": "code",
      "source": [
        "print(a)\n",
        "print(b)\n",
        "print(c)\n",
        "print(d)\n",
        "print(e)"
      ],
      "metadata": {
        "colab": {
          "base_uri": "https://localhost:8080/"
        },
        "id": "VoeHKqsEa4Ph",
        "outputId": "9f39e86c-0351-45df-85ee-d89011f481eb"
      },
      "execution_count": null,
      "outputs": [
        {
          "output_type": "stream",
          "name": "stdout",
          "text": [
            "Universitas Ahmad Dahlan\n",
            "4\n",
            "3.5\n",
            "False\n",
            "(3+4j)\n"
          ]
        }
      ]
    },
    {
      "cell_type": "markdown",
      "source": [
        "**Tipe Data dan Konversi Tipe data**"
      ],
      "metadata": {
        "id": "Tna-ZQ23bBE_"
      }
    },
    {
      "cell_type": "markdown",
      "source": [
        "Tipe Data"
      ],
      "metadata": {
        "id": "37_PyLghbII3"
      }
    },
    {
      "cell_type": "markdown",
      "source": [
        "5 tipe data yaitu\n",
        "\n",
        "1.   integer atau bilangan bulat\n",
        "2.   float atau bilangan desimal\n",
        "\n",
        "1.   string atau kalimat\n",
        "2.   boolean yang terdiri dari true dan false\n",
        "\n",
        "1.  complex yang merupakan bilangan kompleks\n",
        "\n",
        "\n",
        "\n",
        "\n",
        "\n",
        "\n",
        "\n",
        "\n",
        "\n",
        "\n",
        "\n"
      ],
      "metadata": {
        "id": "IU1z3aHRbJ7c"
      }
    },
    {
      "cell_type": "code",
      "source": [
        "#Menampilkan tipe data\n",
        "print(type(kalimat))\n",
        "print(type(bilangan1))\n",
        "print(type(bilangan2))\n",
        "print(type(bilangan3))\n",
        "print(type(bilangan4))"
      ],
      "metadata": {
        "colab": {
          "base_uri": "https://localhost:8080/"
        },
        "id": "d2b1oe1Pblnz",
        "outputId": "6263572e-9479-46e1-dbba-60f49ead917e"
      },
      "execution_count": null,
      "outputs": [
        {
          "output_type": "stream",
          "name": "stdout",
          "text": [
            "<class 'str'>\n",
            "<class 'int'>\n",
            "<class 'float'>\n",
            "<class 'bool'>\n",
            "<class 'complex'>\n"
          ]
        }
      ]
    },
    {
      "cell_type": "markdown",
      "source": [
        "Latihan 2"
      ],
      "metadata": {
        "id": "i2uK_W2Jb2ug"
      }
    },
    {
      "cell_type": "code",
      "source": [
        "# Cek tipe data variabel yang telah kalian buat pada latihan 1\n",
        "print(type(a))\n",
        "print(type(b))\n",
        "print(type(c))\n",
        "print(type(d))\n",
        "print(type(e))"
      ],
      "metadata": {
        "colab": {
          "base_uri": "https://localhost:8080/"
        },
        "id": "dz1wj1Yrb5D7",
        "outputId": "9e850eab-9e63-488f-c1c7-bc42139ccae3"
      },
      "execution_count": null,
      "outputs": [
        {
          "output_type": "stream",
          "name": "stdout",
          "text": [
            "<class 'str'>\n",
            "<class 'int'>\n",
            "<class 'float'>\n",
            "<class 'bool'>\n",
            "<class 'complex'>\n"
          ]
        }
      ]
    },
    {
      "cell_type": "markdown",
      "source": [
        "Konversi tipe data"
      ],
      "metadata": {
        "id": "emjhFhZ6cLcf"
      }
    },
    {
      "cell_type": "code",
      "source": [
        "#Konversi tipe data integer\n",
        "print(int(bilangan2))\n",
        "print(int(bilangan3))\n",
        "\n",
        "#konversi tipe data float\n",
        "print(float(bilangan1))\n",
        "print(float(bilangan3))\n",
        "\n",
        "#konversi tipe data string\n",
        "print(str(bilangan1))\n",
        "print(str(bilangan2))\n",
        "print(str(bilangan3))\n",
        "\n",
        "#konversi tipe data bool\n",
        "print(bool(bilangan1))\n",
        "print(bool(bilangan2))\n",
        "\n",
        "#Konversi tipe data complex\n",
        "print(complex(bilangan1))\n",
        "print(complex(bilangan2))\n",
        "print(complex(bilangan3))"
      ],
      "metadata": {
        "colab": {
          "base_uri": "https://localhost:8080/"
        },
        "id": "Nr_Auj_QcOJI",
        "outputId": "7b4fcfa6-d82c-4472-f373-800cf370df54"
      },
      "execution_count": null,
      "outputs": [
        {
          "output_type": "stream",
          "name": "stdout",
          "text": [
            "2\n",
            "1\n",
            "4.0\n",
            "1.0\n",
            "4\n",
            "2.5\n",
            "True\n",
            "True\n",
            "True\n",
            "(4+0j)\n",
            "(2.5+0j)\n",
            "(1+0j)\n"
          ]
        }
      ]
    },
    {
      "cell_type": "markdown",
      "source": [
        "Latihan 3"
      ],
      "metadata": {
        "id": "C1XChkhEdR6Q"
      }
    },
    {
      "cell_type": "code",
      "source": [
        "#Konversi tipe data yang telah kalian buat menjadi berbagai macam tipe data\n",
        "\n",
        "#Konversi tipe data integer\n",
        "print(int(c))\n",
        "print(int(d))\n",
        "\n",
        "#konversi tipe data float\n",
        "print(float(b))\n",
        "print(float(d))\n",
        "\n",
        "#konversi tipe data string\n",
        "print(str(b))\n",
        "print(str(c))\n",
        "print(str(d))\n",
        "\n",
        "#konversi tipe data bool\n",
        "print(bool(b))\n",
        "print(bool(c))\n",
        "\n",
        "#Konversi tipe data complex\n",
        "print(complex(b))\n",
        "print(complex(c))\n",
        "print(complex(d))"
      ],
      "metadata": {
        "colab": {
          "base_uri": "https://localhost:8080/"
        },
        "id": "jh_QqZcvdTjp",
        "outputId": "c9296bb1-c9d5-4112-abd9-73c70b036915"
      },
      "execution_count": null,
      "outputs": [
        {
          "output_type": "stream",
          "name": "stdout",
          "text": [
            "3\n",
            "0\n",
            "4.0\n",
            "0.0\n",
            "4\n",
            "3.5\n",
            "False\n",
            "True\n",
            "True\n",
            "(4+0j)\n",
            "(3.5+0j)\n",
            "0j\n"
          ]
        }
      ]
    }
  ]
}